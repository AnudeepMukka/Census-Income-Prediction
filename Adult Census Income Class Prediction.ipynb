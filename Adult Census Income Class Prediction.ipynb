{
 "cells": [
  {
   "cell_type": "markdown",
   "metadata": {},
   "source": [
    "# Importing Libraries"
   ]
  },
  {
   "cell_type": "code",
   "execution_count": 1571,
   "metadata": {
    "ExecuteTime": {
     "end_time": "2020-07-08T12:20:12.991221Z",
     "start_time": "2020-07-08T12:20:12.967018Z"
    }
   },
   "outputs": [],
   "source": [
    "import pandas as pd\n",
    "import seaborn as sns\n",
    "import requests\n",
    "import io\n",
    "import numpy as np\n",
    "import matplotlib.pyplot as plt\n",
    "import scipy.stats as stats\n",
    "from IPython.display import Image\n",
    "from scipy.stats import chi2_contingency\n",
    "from sklearn.linear_model import LogisticRegression\n",
    "from sklearn.ensemble import RandomForestClassifier\n",
    "from sklearn.ensemble import AdaBoostClassifier\n",
    "from sklearn.svm import SVC\n",
    "from sklearn.inspection import permutation_importance\n",
    "from sklearn.decomposition import PCA\n",
    "from sklearn.model_selection import train_test_split\n",
    "from sklearn.metrics import precision_score\n",
    "from sklearn.metrics import recall_score\n",
    "from sklearn.metrics import accuracy_score\n",
    "from sklearn.metrics import f1_score\n",
    "from sklearn.metrics import roc_auc_score\n",
    "from sklearn.tree import DecisionTreeClassifier\n",
    "from xgboost import XGBClassifier\n",
    "from sklearn.decomposition import PCA\n",
    "from sklearn.preprocessing import StandardScaler\n",
    "import random\n",
    "from sklearn.metrics import roc_curve, roc_auc_score\n",
    "random.seed(13261058)"
   ]
  },
  {
   "cell_type": "markdown",
   "metadata": {},
   "source": [
    "# Importing Data"
   ]
  },
  {
   "cell_type": "markdown",
   "metadata": {
    "ExecuteTime": {
     "end_time": "2020-07-06T23:32:03.766542Z",
     "start_time": "2020-07-06T23:32:03.758472Z"
    }
   },
   "source": [
    "## Training Data"
   ]
  },
  {
   "cell_type": "code",
   "execution_count": 1512,
   "metadata": {
    "ExecuteTime": {
     "end_time": "2020-07-07T21:43:53.834566Z",
     "start_time": "2020-07-07T21:43:53.770738Z"
    }
   },
   "outputs": [],
   "source": [
    "Census = pd.read_csv(\"C:/Personal/UC BANA Flex 5/adult.csv\")"
   ]
  },
  {
   "cell_type": "markdown",
   "metadata": {},
   "source": [
    "## Test Data"
   ]
  },
  {
   "cell_type": "code",
   "execution_count": 1513,
   "metadata": {
    "ExecuteTime": {
     "end_time": "2020-07-07T21:43:54.614725Z",
     "start_time": "2020-07-07T21:43:54.565660Z"
    }
   },
   "outputs": [],
   "source": [
    "Census_test = pd.read_csv(\"C:/Personal/UC BANA Flex 5/Census_Test.csv\")"
   ]
  },
  {
   "cell_type": "markdown",
   "metadata": {},
   "source": [
    "# Data Cleaning"
   ]
  },
  {
   "cell_type": "markdown",
   "metadata": {},
   "source": [
    "There are 24 duplicate records(0.07%) found in the Census Data"
   ]
  },
  {
   "cell_type": "code",
   "execution_count": 1514,
   "metadata": {
    "ExecuteTime": {
     "end_time": "2020-07-07T21:43:55.967899Z",
     "start_time": "2020-07-07T21:43:55.910579Z"
    }
   },
   "outputs": [],
   "source": [
    "Census = Census.loc[~(Census.duplicated(subset=None, keep='first')),:]"
   ]
  },
  {
   "cell_type": "markdown",
   "metadata": {},
   "source": [
    "There are 32537 records with 15 columns after deduping in the training dataset"
   ]
  },
  {
   "cell_type": "code",
   "execution_count": 1515,
   "metadata": {
    "ExecuteTime": {
     "end_time": "2020-07-07T21:43:57.206291Z",
     "start_time": "2020-07-07T21:43:57.201303Z"
    }
   },
   "outputs": [
    {
     "data": {
      "text/plain": [
       "(32537, 15)"
      ]
     },
     "execution_count": 1515,
     "metadata": {},
     "output_type": "execute_result"
    }
   ],
   "source": [
    "Census.shape"
   ]
  },
  {
   "cell_type": "markdown",
   "metadata": {},
   "source": [
    "There are 16281 records with 15 columns in the testing dataset"
   ]
  },
  {
   "cell_type": "code",
   "execution_count": 1516,
   "metadata": {
    "ExecuteTime": {
     "end_time": "2020-07-07T21:43:58.209047Z",
     "start_time": "2020-07-07T21:43:58.204083Z"
    }
   },
   "outputs": [
    {
     "data": {
      "text/plain": [
       "(16281, 15)"
      ]
     },
     "execution_count": 1516,
     "metadata": {},
     "output_type": "execute_result"
    }
   ],
   "source": [
    "Census_test.shape"
   ]
  },
  {
   "cell_type": "markdown",
   "metadata": {},
   "source": [
    "Replacing '?' with null values"
   ]
  },
  {
   "cell_type": "code",
   "execution_count": 1517,
   "metadata": {
    "ExecuteTime": {
     "end_time": "2020-07-07T21:43:59.415228Z",
     "start_time": "2020-07-07T21:43:59.360832Z"
    }
   },
   "outputs": [
    {
     "name": "stderr",
     "output_type": "stream",
     "text": [
      "C:\\Users\\mukka\\AppData\\Local\\Continuum\\anaconda3\\lib\\site-packages\\pandas\\core\\ops\\array_ops.py:253: FutureWarning: elementwise comparison failed; returning scalar instead, but in the future will perform elementwise comparison\n",
      "  res_values = method(rvalues)\n"
     ]
    }
   ],
   "source": [
    "Census[Census == '?'] = np.nan"
   ]
  },
  {
   "cell_type": "code",
   "execution_count": 1518,
   "metadata": {
    "ExecuteTime": {
     "end_time": "2020-07-07T21:43:59.780304Z",
     "start_time": "2020-07-07T21:43:59.760323Z"
    }
   },
   "outputs": [],
   "source": [
    "Census_test[Census_test == ' ?'] = np.nan"
   ]
  },
  {
   "cell_type": "markdown",
   "metadata": {},
   "source": [
    "Removing Blank spaces at the end"
   ]
  },
  {
   "cell_type": "code",
   "execution_count": 1519,
   "metadata": {
    "ExecuteTime": {
     "end_time": "2020-07-07T21:44:00.669672Z",
     "start_time": "2020-07-07T21:44:00.573929Z"
    }
   },
   "outputs": [],
   "source": [
    "df_obj = Census.select_dtypes(['object'])\n",
    "Census[df_obj.columns] = df_obj.apply(lambda x: x.str.strip())"
   ]
  },
  {
   "cell_type": "code",
   "execution_count": 1520,
   "metadata": {
    "ExecuteTime": {
     "end_time": "2020-07-07T21:44:01.165355Z",
     "start_time": "2020-07-07T21:44:01.042676Z"
    }
   },
   "outputs": [],
   "source": [
    "df_obj_test = Census_test.select_dtypes(['object'])\n",
    "Census_test[df_obj_test.columns] = df_obj.apply(lambda x: x.str.strip())"
   ]
  },
  {
   "cell_type": "markdown",
   "metadata": {},
   "source": [
    "Dropping Missing Values"
   ]
  },
  {
   "cell_type": "code",
   "execution_count": 1521,
   "metadata": {
    "ExecuteTime": {
     "end_time": "2020-07-07T21:44:01.958267Z",
     "start_time": "2020-07-07T21:44:01.941318Z"
    }
   },
   "outputs": [],
   "source": [
    "Census.dropna(axis=0,inplace=True)"
   ]
  },
  {
   "cell_type": "code",
   "execution_count": 1522,
   "metadata": {
    "ExecuteTime": {
     "end_time": "2020-07-07T21:44:02.372807Z",
     "start_time": "2020-07-07T21:44:02.358805Z"
    }
   },
   "outputs": [],
   "source": [
    "Census_test.dropna(axis=0,inplace=True)"
   ]
  },
  {
   "cell_type": "markdown",
   "metadata": {},
   "source": [
    "# Feature Engineering"
   ]
  },
  {
   "cell_type": "markdown",
   "metadata": {},
   "source": [
    "Changing the terminology of the response variable"
   ]
  },
  {
   "cell_type": "code",
   "execution_count": 1523,
   "metadata": {
    "ExecuteTime": {
     "end_time": "2020-07-07T21:44:03.981901Z",
     "start_time": "2020-07-07T21:44:03.970681Z"
    }
   },
   "outputs": [],
   "source": [
    "Census['income'] = ['low' if x == '<=50K' else 'high' for x in Census['income']]\n",
    "Census_test['income'] = ['low' if x == '<=50K' else 'high' for x in Census_test['income']]"
   ]
  },
  {
   "cell_type": "markdown",
   "metadata": {
    "ExecuteTime": {
     "end_time": "2020-07-07T00:23:36.947173Z",
     "start_time": "2020-07-07T00:23:36.932167Z"
    }
   },
   "source": [
    "## Categorical Variables"
   ]
  },
  {
   "cell_type": "markdown",
   "metadata": {},
   "source": [
    "### Native Country"
   ]
  },
  {
   "cell_type": "markdown",
   "metadata": {},
   "source": [
    "We can see that more than 90% of the records in the native.country belongs to United States. we can drop this feature"
   ]
  },
  {
   "cell_type": "code",
   "execution_count": 1524,
   "metadata": {
    "ExecuteTime": {
     "end_time": "2020-07-07T21:44:05.978762Z",
     "start_time": "2020-07-07T21:44:05.969788Z"
    }
   },
   "outputs": [
    {
     "data": {
      "text/plain": [
       "United-States                 91.200770\n",
       "Mexico                         2.010684\n",
       "Philippines                    0.623777\n",
       "Germany                        0.424699\n",
       "Puerto-Rico                    0.361658\n",
       "Canada                         0.355022\n",
       "India                          0.331796\n",
       "El-Salvador                    0.331796\n",
       "Cuba                           0.305252\n",
       "England                        0.285345\n",
       "Jamaica                        0.265437\n",
       "South                          0.235575\n",
       "China                          0.225621\n",
       "Italy                          0.225621\n",
       "Dominican-Republic             0.222303\n",
       "Vietnam                        0.212349\n",
       "Guatemala                      0.202396\n",
       "Japan                          0.195760\n",
       "Poland                         0.185806\n",
       "Columbia                       0.185806\n",
       "Taiwan                         0.139354\n",
       "Haiti                          0.139354\n",
       "Iran                           0.139354\n",
       "Portugal                       0.112811\n",
       "Nicaragua                      0.109493\n",
       "Peru                           0.099539\n",
       "Greece                         0.096221\n",
       "France                         0.089585\n",
       "Ecuador                        0.089585\n",
       "Ireland                        0.079631\n",
       "Hong                           0.063041\n",
       "Trinadad&Tobago                0.059723\n",
       "Cambodia                       0.059723\n",
       "Thailand                       0.056405\n",
       "Laos                           0.056405\n",
       "Yugoslavia                     0.053087\n",
       "Outlying-US(Guam-USVI-etc)     0.046451\n",
       "Hungary                        0.043133\n",
       "Honduras                       0.039816\n",
       "Scotland                       0.036498\n",
       "Holand-Netherlands             0.003318\n",
       "Name: native.country, dtype: float64"
      ]
     },
     "execution_count": 1524,
     "metadata": {},
     "output_type": "execute_result"
    }
   ],
   "source": [
    "Census['native.country'].value_counts(normalize=True)*100"
   ]
  },
  {
   "cell_type": "code",
   "execution_count": 1525,
   "metadata": {
    "ExecuteTime": {
     "end_time": "2020-07-07T21:44:06.539633Z",
     "start_time": "2020-07-07T21:44:06.513131Z"
    }
   },
   "outputs": [],
   "source": [
    "Census = Census.drop(columns=['native.country'])\n",
    "Census_test = Census_test.drop(columns=['native.country'])"
   ]
  },
  {
   "cell_type": "markdown",
   "metadata": {},
   "source": [
    "### Marital Status"
   ]
  },
  {
   "cell_type": "markdown",
   "metadata": {},
   "source": [
    "We can club the certain categories in the marital status column to reduce the # of categories"
   ]
  },
  {
   "cell_type": "code",
   "execution_count": 1526,
   "metadata": {
    "ExecuteTime": {
     "end_time": "2020-07-07T21:44:08.145360Z",
     "start_time": "2020-07-07T21:44:08.138344Z"
    }
   },
   "outputs": [
    {
     "data": {
      "text/plain": [
       "Married-civ-spouse       46.647201\n",
       "Never-married            32.220711\n",
       "Divorced                 13.975248\n",
       "Separated                 3.115565\n",
       "Widowed                   2.743953\n",
       "Married-spouse-absent     1.227645\n",
       "Married-AF-spouse         0.069677\n",
       "Name: marital.status, dtype: float64"
      ]
     },
     "execution_count": 1526,
     "metadata": {},
     "output_type": "execute_result"
    }
   ],
   "source": [
    "Census['marital.status'].value_counts(normalize=True)*100"
   ]
  },
  {
   "cell_type": "code",
   "execution_count": 1527,
   "metadata": {
    "ExecuteTime": {
     "end_time": "2020-07-07T21:44:08.790918Z",
     "start_time": "2020-07-07T21:44:08.779981Z"
    }
   },
   "outputs": [
    {
     "data": {
      "text/plain": [
       "Married-civ-spouse       49.523179\n",
       "Never-married            29.973510\n",
       "Divorced                 13.649007\n",
       "Separated                 3.072848\n",
       "Widowed                   2.576159\n",
       "Married-spouse-absent     1.139073\n",
       "Married-AF-spouse         0.066225\n",
       "Name: marital.status, dtype: float64"
      ]
     },
     "execution_count": 1527,
     "metadata": {},
     "output_type": "execute_result"
    }
   ],
   "source": [
    "Census_test['marital.status'].value_counts(normalize=True)*100"
   ]
  },
  {
   "cell_type": "code",
   "execution_count": 1528,
   "metadata": {
    "ExecuteTime": {
     "end_time": "2020-07-07T21:44:09.567408Z",
     "start_time": "2020-07-07T21:44:09.543309Z"
    }
   },
   "outputs": [],
   "source": [
    "Census['marital.status'].replace({'Married-civ-spouse' : 'Married' ,\n",
    "                              'Divorced' : 'Separated' , \n",
    "                              'Married-AF-spouse' : 'Married' , \n",
    "                              'Married-spouse-absent':'Separated',\n",
    "                            'Widowed': 'Separated'},inplace = True)\n",
    "\n",
    "Census_test['marital.status'].replace({'Married-civ-spouse' : 'Married' ,\n",
    "                              'Divorced' : 'Separated' , \n",
    "                              'Married-AF-spouse' : 'Married' , \n",
    "                              'Married-spouse-absent':'Separated',\n",
    "                                'Widowed': 'Separated'},inplace = True)"
   ]
  },
  {
   "cell_type": "markdown",
   "metadata": {},
   "source": [
    "### Workclass"
   ]
  },
  {
   "cell_type": "markdown",
   "metadata": {},
   "source": [
    "We can club certain workclass types to further reduce the categories"
   ]
  },
  {
   "cell_type": "code",
   "execution_count": 1529,
   "metadata": {
    "ExecuteTime": {
     "end_time": "2020-07-07T21:44:11.008054Z",
     "start_time": "2020-07-07T21:44:10.997086Z"
    }
   },
   "outputs": [
    {
     "data": {
      "text/plain": [
       "Private             73.871064\n",
       "Self-emp-not-inc     8.288264\n",
       "Local-gov            6.858224\n",
       "State-gov            4.243671\n",
       "Self-emp-inc         3.563489\n",
       "Federal-gov          3.128836\n",
       "Without-pay          0.046451\n",
       "Name: workclass, dtype: float64"
      ]
     },
     "execution_count": 1529,
     "metadata": {},
     "output_type": "execute_result"
    }
   ],
   "source": [
    "Census['workclass'].value_counts(normalize=True)*100"
   ]
  },
  {
   "cell_type": "code",
   "execution_count": 1530,
   "metadata": {
    "ExecuteTime": {
     "end_time": "2020-07-07T21:44:11.567352Z",
     "start_time": "2020-07-07T21:44:11.558950Z"
    }
   },
   "outputs": [
    {
     "data": {
      "text/plain": [
       "Private             72.814570\n",
       "Self-emp-not-inc     8.715232\n",
       "Local-gov            6.953642\n",
       "State-gov            4.311258\n",
       "Self-emp-inc         4.026490\n",
       "Federal-gov          3.152318\n",
       "Without-pay          0.026490\n",
       "Name: workclass, dtype: float64"
      ]
     },
     "execution_count": 1530,
     "metadata": {},
     "output_type": "execute_result"
    }
   ],
   "source": [
    "Census_test['workclass'].value_counts(normalize=True)*100"
   ]
  },
  {
   "cell_type": "code",
   "execution_count": 1531,
   "metadata": {
    "ExecuteTime": {
     "end_time": "2020-07-07T21:44:11.948625Z",
     "start_time": "2020-07-07T21:44:11.937640Z"
    }
   },
   "outputs": [],
   "source": [
    "Census['workclass'].replace({'Self-emp-not-inc':'Self-Emp',\n",
    "                            'Local-gov':'Govt',\n",
    "                            'State-gov': 'Govt',\n",
    "                             'Self-emp-inc': 'Self-Emp',\n",
    "                             'Federal-gov':'Govt',\n",
    "                             'Without-pay': 'Not Working',\n",
    "                             'Never-worked' : 'Not Working' \n",
    "},inplace = True)\n",
    "\n",
    "\n",
    "Census_test['workclass'].replace({'Self-emp-not-inc':'Self-Emp',\n",
    "                            'Local-gov':'Govt',\n",
    "                            'State-gov': 'Govt',\n",
    "                             'Self-emp-inc': 'Self-Emp',\n",
    "                             'Federal-gov':'Govt',\n",
    "                             'Without-pay': 'Not Working',\n",
    "                             'Never-worked' : 'Not Working' \n",
    "},inplace = True)"
   ]
  },
  {
   "cell_type": "markdown",
   "metadata": {},
   "source": [
    "### Race"
   ]
  },
  {
   "cell_type": "markdown",
   "metadata": {},
   "source": [
    "We can club the last three race types into 'other' category "
   ]
  },
  {
   "cell_type": "code",
   "execution_count": 1532,
   "metadata": {
    "ExecuteTime": {
     "end_time": "2020-07-07T21:44:13.045286Z",
     "start_time": "2020-07-07T21:44:13.037309Z"
    }
   },
   "outputs": [
    {
     "data": {
      "text/plain": [
       "White                 85.97\n",
       "Black                  9.34\n",
       "Asian-Pac-Islander     2.97\n",
       "Amer-Indian-Eskimo     0.95\n",
       "Other                  0.77\n",
       "Name: race, dtype: float64"
      ]
     },
     "execution_count": 1532,
     "metadata": {},
     "output_type": "execute_result"
    }
   ],
   "source": [
    "round(Census['race'].value_counts(normalize=True)*100,2)"
   ]
  },
  {
   "cell_type": "code",
   "execution_count": 1533,
   "metadata": {
    "ExecuteTime": {
     "end_time": "2020-07-07T21:44:13.472352Z",
     "start_time": "2020-07-07T21:44:13.455399Z"
    }
   },
   "outputs": [],
   "source": [
    "Census['race'] = ['Other' if x not in ['White'] else x for x in Census['race'] ]\n",
    "Census_test['race'] = ['Other' if x not in ['White'] else x for x in Census_test['race'] ]"
   ]
  },
  {
   "cell_type": "markdown",
   "metadata": {},
   "source": [
    "### Occupation"
   ]
  },
  {
   "cell_type": "markdown",
   "metadata": {},
   "source": [
    "We can club all the category types which are less than 10% into 'other' category"
   ]
  },
  {
   "cell_type": "code",
   "execution_count": 1534,
   "metadata": {
    "ExecuteTime": {
     "end_time": "2020-07-07T21:44:14.469261Z",
     "start_time": "2020-07-07T21:44:14.458845Z"
    }
   },
   "outputs": [
    {
     "data": {
      "text/plain": [
       "Prof-specialty       13.38\n",
       "Craft-repair         13.35\n",
       "Exec-managerial      13.24\n",
       "Adm-clerical         12.34\n",
       "Sales                11.89\n",
       "Other-service        10.65\n",
       "Machine-op-inspct     6.52\n",
       "Transport-moving      5.22\n",
       "Handlers-cleaners     4.48\n",
       "Farming-fishing       3.27\n",
       "Tech-support          3.02\n",
       "Protective-serv       2.14\n",
       "Priv-house-serv       0.47\n",
       "Armed-Forces          0.03\n",
       "Name: occupation, dtype: float64"
      ]
     },
     "execution_count": 1534,
     "metadata": {},
     "output_type": "execute_result"
    }
   ],
   "source": [
    "round(Census['occupation'].value_counts(normalize= True)*100,2)"
   ]
  },
  {
   "cell_type": "code",
   "execution_count": 1535,
   "metadata": {
    "ExecuteTime": {
     "end_time": "2020-07-07T21:44:14.921580Z",
     "start_time": "2020-07-07T21:44:14.894687Z"
    }
   },
   "outputs": [],
   "source": [
    "Census['occupation'] = ['Other' if x in ['Other-service','Machine-op-inspct','Transport-moving','Handlers-cleaners','Farming-fishing',\n",
    "                 'Tech-support','Protective-serv','Priv-house-serv','Armed-Forces'] else x for x in Census['occupation']]\n",
    "\n",
    "Census_test['occupation'] = ['Other' if x in ['Other-service','Machine-op-inspct','Transport-moving','Handlers-cleaners','Farming-fishing',\n",
    "                 'Tech-support','Protective-serv','Priv-house-serv','Armed-Forces'] else x for x in Census_test['occupation']]"
   ]
  },
  {
   "cell_type": "markdown",
   "metadata": {},
   "source": [
    "### Relationship"
   ]
  },
  {
   "cell_type": "markdown",
   "metadata": {},
   "source": [
    "We can drop this column since it is captured in marital status column"
   ]
  },
  {
   "cell_type": "code",
   "execution_count": 1536,
   "metadata": {
    "ExecuteTime": {
     "end_time": "2020-07-07T21:44:16.011097Z",
     "start_time": "2020-07-07T21:44:16.003119Z"
    }
   },
   "outputs": [],
   "source": [
    "Census= Census.drop(columns=['relationship'])\n",
    "Census_test= Census_test.drop(columns=['relationship'])"
   ]
  },
  {
   "cell_type": "markdown",
   "metadata": {},
   "source": [
    "## continuous variables"
   ]
  },
  {
   "cell_type": "code",
   "execution_count": 1537,
   "metadata": {
    "ExecuteTime": {
     "end_time": "2020-07-07T21:44:17.379447Z",
     "start_time": "2020-07-07T21:44:17.371918Z"
    }
   },
   "outputs": [],
   "source": [
    "Census['netincome'] = Census['capital.gain'] - Census['capital.loss']\n",
    "Census_test['netincome'] = Census_test['capital.gain'] - Census_test['capital.loss']"
   ]
  },
  {
   "cell_type": "code",
   "execution_count": 1538,
   "metadata": {
    "ExecuteTime": {
     "end_time": "2020-07-07T21:44:17.988132Z",
     "start_time": "2020-07-07T21:44:17.975531Z"
    }
   },
   "outputs": [],
   "source": [
    "Census['income_overall'] = ['Positive' if x > 0 else 'Negative' for x in Census['netincome'] ]\n",
    "Census_test['income_overall'] = ['Positive' if x > 0 else 'Negative' for x in Census_test['netincome'] ]"
   ]
  },
  {
   "cell_type": "code",
   "execution_count": 1539,
   "metadata": {
    "ExecuteTime": {
     "end_time": "2020-07-07T21:44:18.426411Z",
     "start_time": "2020-07-07T21:44:18.399485Z"
    }
   },
   "outputs": [],
   "source": [
    "Census= Census.drop(columns=['capital.gain','capital.loss','netincome'])\n",
    "Census_test= Census_test.drop(columns=['capital.gain','capital.loss','netincome'])"
   ]
  },
  {
   "cell_type": "code",
   "execution_count": 1540,
   "metadata": {
    "ExecuteTime": {
     "end_time": "2020-07-07T21:44:19.028188Z",
     "start_time": "2020-07-07T21:44:19.016185Z"
    }
   },
   "outputs": [],
   "source": [
    "Census= Census.drop(columns=['fnlwgt'])\n",
    "Census_test= Census_test.drop(columns=['fnlwgt'])"
   ]
  },
  {
   "cell_type": "markdown",
   "metadata": {},
   "source": [
    "# Exploratory Data Analysis"
   ]
  },
  {
   "cell_type": "code",
   "execution_count": 1541,
   "metadata": {
    "ExecuteTime": {
     "end_time": "2020-07-07T21:44:21.948022Z",
     "start_time": "2020-07-07T21:44:21.931068Z"
    }
   },
   "outputs": [
    {
     "data": {
      "text/html": [
       "<div>\n",
       "<style scoped>\n",
       "    .dataframe tbody tr th:only-of-type {\n",
       "        vertical-align: middle;\n",
       "    }\n",
       "\n",
       "    .dataframe tbody tr th {\n",
       "        vertical-align: top;\n",
       "    }\n",
       "\n",
       "    .dataframe thead th {\n",
       "        text-align: right;\n",
       "    }\n",
       "</style>\n",
       "<table border=\"1\" class=\"dataframe\">\n",
       "  <thead>\n",
       "    <tr style=\"text-align: right;\">\n",
       "      <th></th>\n",
       "      <th>age</th>\n",
       "      <th>education.num</th>\n",
       "      <th>hours.per.week</th>\n",
       "    </tr>\n",
       "  </thead>\n",
       "  <tbody>\n",
       "    <tr>\n",
       "      <th>count</th>\n",
       "      <td>30139.000000</td>\n",
       "      <td>30139.000000</td>\n",
       "      <td>30139.000000</td>\n",
       "    </tr>\n",
       "    <tr>\n",
       "      <th>mean</th>\n",
       "      <td>38.441720</td>\n",
       "      <td>10.122532</td>\n",
       "      <td>40.934703</td>\n",
       "    </tr>\n",
       "    <tr>\n",
       "      <th>std</th>\n",
       "      <td>13.131426</td>\n",
       "      <td>2.548738</td>\n",
       "      <td>11.978753</td>\n",
       "    </tr>\n",
       "    <tr>\n",
       "      <th>min</th>\n",
       "      <td>17.000000</td>\n",
       "      <td>1.000000</td>\n",
       "      <td>1.000000</td>\n",
       "    </tr>\n",
       "    <tr>\n",
       "      <th>25%</th>\n",
       "      <td>28.000000</td>\n",
       "      <td>9.000000</td>\n",
       "      <td>40.000000</td>\n",
       "    </tr>\n",
       "    <tr>\n",
       "      <th>50%</th>\n",
       "      <td>37.000000</td>\n",
       "      <td>10.000000</td>\n",
       "      <td>40.000000</td>\n",
       "    </tr>\n",
       "    <tr>\n",
       "      <th>75%</th>\n",
       "      <td>47.000000</td>\n",
       "      <td>13.000000</td>\n",
       "      <td>45.000000</td>\n",
       "    </tr>\n",
       "    <tr>\n",
       "      <th>max</th>\n",
       "      <td>90.000000</td>\n",
       "      <td>16.000000</td>\n",
       "      <td>99.000000</td>\n",
       "    </tr>\n",
       "  </tbody>\n",
       "</table>\n",
       "</div>"
      ],
      "text/plain": [
       "                age  education.num  hours.per.week\n",
       "count  30139.000000   30139.000000    30139.000000\n",
       "mean      38.441720      10.122532       40.934703\n",
       "std       13.131426       2.548738       11.978753\n",
       "min       17.000000       1.000000        1.000000\n",
       "25%       28.000000       9.000000       40.000000\n",
       "50%       37.000000      10.000000       40.000000\n",
       "75%       47.000000      13.000000       45.000000\n",
       "max       90.000000      16.000000       99.000000"
      ]
     },
     "execution_count": 1541,
     "metadata": {},
     "output_type": "execute_result"
    }
   ],
   "source": [
    "Census.describe()"
   ]
  },
  {
   "cell_type": "code",
   "execution_count": 1542,
   "metadata": {
    "ExecuteTime": {
     "end_time": "2020-07-07T21:44:22.673958Z",
     "start_time": "2020-07-07T21:44:22.627061Z"
    }
   },
   "outputs": [
    {
     "data": {
      "text/html": [
       "<div>\n",
       "<style scoped>\n",
       "    .dataframe tbody tr th:only-of-type {\n",
       "        vertical-align: middle;\n",
       "    }\n",
       "\n",
       "    .dataframe tbody tr th {\n",
       "        vertical-align: top;\n",
       "    }\n",
       "\n",
       "    .dataframe thead th {\n",
       "        text-align: right;\n",
       "    }\n",
       "</style>\n",
       "<table border=\"1\" class=\"dataframe\">\n",
       "  <thead>\n",
       "    <tr style=\"text-align: right;\">\n",
       "      <th></th>\n",
       "      <th>workclass</th>\n",
       "      <th>education</th>\n",
       "      <th>marital.status</th>\n",
       "      <th>occupation</th>\n",
       "      <th>race</th>\n",
       "      <th>sex</th>\n",
       "      <th>income</th>\n",
       "      <th>income_overall</th>\n",
       "    </tr>\n",
       "  </thead>\n",
       "  <tbody>\n",
       "    <tr>\n",
       "      <th>count</th>\n",
       "      <td>30139</td>\n",
       "      <td>30139</td>\n",
       "      <td>30139</td>\n",
       "      <td>30139</td>\n",
       "      <td>30139</td>\n",
       "      <td>30139</td>\n",
       "      <td>30139</td>\n",
       "      <td>30139</td>\n",
       "    </tr>\n",
       "    <tr>\n",
       "      <th>unique</th>\n",
       "      <td>4</td>\n",
       "      <td>16</td>\n",
       "      <td>3</td>\n",
       "      <td>6</td>\n",
       "      <td>2</td>\n",
       "      <td>2</td>\n",
       "      <td>2</td>\n",
       "      <td>2</td>\n",
       "    </tr>\n",
       "    <tr>\n",
       "      <th>top</th>\n",
       "      <td>Private</td>\n",
       "      <td>HS-grad</td>\n",
       "      <td>Married</td>\n",
       "      <td>Other</td>\n",
       "      <td>White</td>\n",
       "      <td>Male</td>\n",
       "      <td>low</td>\n",
       "      <td>Negative</td>\n",
       "    </tr>\n",
       "    <tr>\n",
       "      <th>freq</th>\n",
       "      <td>22264</td>\n",
       "      <td>9834</td>\n",
       "      <td>14080</td>\n",
       "      <td>10786</td>\n",
       "      <td>25912</td>\n",
       "      <td>20366</td>\n",
       "      <td>22633</td>\n",
       "      <td>27601</td>\n",
       "    </tr>\n",
       "  </tbody>\n",
       "</table>\n",
       "</div>"
      ],
      "text/plain": [
       "       workclass education marital.status occupation   race    sex income  \\\n",
       "count      30139     30139          30139      30139  30139  30139  30139   \n",
       "unique         4        16              3          6      2      2      2   \n",
       "top      Private   HS-grad        Married      Other  White   Male    low   \n",
       "freq       22264      9834          14080      10786  25912  20366  22633   \n",
       "\n",
       "       income_overall  \n",
       "count           30139  \n",
       "unique              2  \n",
       "top          Negative  \n",
       "freq            27601  "
      ]
     },
     "execution_count": 1542,
     "metadata": {},
     "output_type": "execute_result"
    }
   ],
   "source": [
    "Census.describe(include=['O'])"
   ]
  },
  {
   "cell_type": "markdown",
   "metadata": {},
   "source": [
    "## Class Distribution"
   ]
  },
  {
   "cell_type": "code",
   "execution_count": 1543,
   "metadata": {
    "ExecuteTime": {
     "end_time": "2020-07-07T21:44:24.936988Z",
     "start_time": "2020-07-07T21:44:24.930008Z"
    }
   },
   "outputs": [
    {
     "data": {
      "text/plain": [
       "low     22633\n",
       "high     7506\n",
       "Name: income, dtype: int64"
      ]
     },
     "execution_count": 1543,
     "metadata": {},
     "output_type": "execute_result"
    }
   ],
   "source": [
    "Census['income'].value_counts()"
   ]
  },
  {
   "cell_type": "code",
   "execution_count": 1544,
   "metadata": {
    "ExecuteTime": {
     "end_time": "2020-07-07T21:44:28.148794Z",
     "start_time": "2020-07-07T21:44:28.070507Z"
    }
   },
   "outputs": [
    {
     "data": {
      "text/plain": [
       "Text(0, 0.5, '')"
      ]
     },
     "execution_count": 1544,
     "metadata": {},
     "output_type": "execute_result"
    },
    {
     "data": {
      "image/png": "[encoded data removed]",
      "text/plain": [
       "<Figure size 432x288 with 1 Axes>"
      ]
     },
     "metadata": {
      "needs_background": "light"
     },
     "output_type": "display_data"
    }
   ],
   "source": [
    "sns.countplot(x='income',data=Census);\n",
    "plt.title(\"Distribution of Income Class\");\n",
    "plt.ylabel('')"
   ]
  },
  {
   "cell_type": "markdown",
   "metadata": {},
   "source": [
    "## Continuous Variables"
   ]
  },
  {
   "cell_type": "code",
   "execution_count": 1545,
   "metadata": {
    "ExecuteTime": {
     "end_time": "2020-07-07T21:44:30.468861Z",
     "start_time": "2020-07-07T21:44:30.113712Z"
    }
   },
   "outputs": [
    {
     "data": {
      "image/png": "[encoded data removed]",
      "text/plain": [
       "<Figure size 1440x360 with 3 Axes>"
      ]
     },
     "metadata": {
      "needs_background": "light"
     },
     "output_type": "display_data"
    }
   ],
   "source": [
    "%matplotlib inline\n",
    "fig,ax = plt.subplots(1,3,figsize=(20,5))\n",
    "sns.boxplot(x='income', y= 'age',data=Census,ax=ax[0]);\n",
    "sns.boxplot(x='income', y= 'education.num',data=Census,ax=ax[1]);\n",
    "sns.boxplot(x='income', y= 'hours.per.week',data=Census,ax=ax[2]);"
   ]
  },
  {
   "cell_type": "code",
   "execution_count": 1546,
   "metadata": {
    "ExecuteTime": {
     "end_time": "2020-07-07T21:44:30.911272Z",
     "start_time": "2020-07-07T21:44:30.764657Z"
    }
   },
   "outputs": [
    {
     "data": {
      "image/png": "[encoded data removed]",
      "text/plain": [
       "<Figure size 432x288 with 1 Axes>"
      ]
     },
     "metadata": {
      "needs_background": "light"
     },
     "output_type": "display_data"
    }
   ],
   "source": [
    "sns.distplot(Census.loc[Census['income']=='low', 'age'],label='low',color='red',hist=False);\n",
    "sns.distplot(Census.loc[Census['income']=='high', 'age'],label='high',color = 'green',hist=False);\n",
    "plt.show()"
   ]
  },
  {
   "cell_type": "code",
   "execution_count": 1547,
   "metadata": {
    "ExecuteTime": {
     "end_time": "2020-07-07T21:44:32.792089Z",
     "start_time": "2020-07-07T21:44:32.651912Z"
    }
   },
   "outputs": [
    {
     "data": {
      "image/png": "[encoded data removed]",
      "text/plain": [
       "<Figure size 432x288 with 1 Axes>"
      ]
     },
     "metadata": {
      "needs_background": "light"
     },
     "output_type": "display_data"
    }
   ],
   "source": [
    "sns.distplot(Census.loc[Census['income']=='low', 'education.num'],label='low',color = 'red',hist=False);\n",
    "sns.distplot(Census.loc[Census['income']=='high', 'education.num'],label='high',color = 'green',hist=False);\n",
    "plt.show()"
   ]
  },
  {
   "cell_type": "code",
   "execution_count": 1548,
   "metadata": {
    "ExecuteTime": {
     "end_time": "2020-07-07T21:44:33.565563Z",
     "start_time": "2020-07-07T21:44:33.436870Z"
    }
   },
   "outputs": [
    {
     "data": {
      "image/png": "[encoded data removed]",
      "text/plain": [
       "<Figure size 432x288 with 1 Axes>"
      ]
     },
     "metadata": {
      "needs_background": "light"
     },
     "output_type": "display_data"
    }
   ],
   "source": [
    "sns.distplot(Census.loc[Census['income']=='low', 'hours.per.week'],label='low',color = 'red',hist=False);\n",
    "sns.distplot(Census.loc[Census['income']=='high', 'hours.per.week'],label='high',color = 'green',hist=False);\n",
    "plt.show()"
   ]
  },
  {
   "cell_type": "markdown",
   "metadata": {},
   "source": [
    "We can see from the below contingency table education and education.num are correlated. We can drop education column for further analysis"
   ]
  },
  {
   "cell_type": "code",
   "execution_count": 1549,
   "metadata": {
    "ExecuteTime": {
     "end_time": "2020-07-07T21:44:42.232974Z",
     "start_time": "2020-07-07T21:44:42.190613Z"
    }
   },
   "outputs": [
    {
     "data": {
      "text/html": [
       "<div>\n",
       "<style scoped>\n",
       "    .dataframe tbody tr th:only-of-type {\n",
       "        vertical-align: middle;\n",
       "    }\n",
       "\n",
       "    .dataframe tbody tr th {\n",
       "        vertical-align: top;\n",
       "    }\n",
       "\n",
       "    .dataframe thead th {\n",
       "        text-align: right;\n",
       "    }\n",
       "</style>\n",
       "<table border=\"1\" class=\"dataframe\">\n",
       "  <thead>\n",
       "    <tr style=\"text-align: right;\">\n",
       "      <th>education.num</th>\n",
       "      <th>1</th>\n",
       "      <th>2</th>\n",
       "      <th>3</th>\n",
       "      <th>4</th>\n",
       "      <th>5</th>\n",
       "      <th>6</th>\n",
       "      <th>7</th>\n",
       "      <th>8</th>\n",
       "      <th>9</th>\n",
       "      <th>10</th>\n",
       "      <th>11</th>\n",
       "      <th>12</th>\n",
       "      <th>13</th>\n",
       "      <th>14</th>\n",
       "      <th>15</th>\n",
       "      <th>16</th>\n",
       "    </tr>\n",
       "    <tr>\n",
       "      <th>education</th>\n",
       "      <th></th>\n",
       "      <th></th>\n",
       "      <th></th>\n",
       "      <th></th>\n",
       "      <th></th>\n",
       "      <th></th>\n",
       "      <th></th>\n",
       "      <th></th>\n",
       "      <th></th>\n",
       "      <th></th>\n",
       "      <th></th>\n",
       "      <th></th>\n",
       "      <th></th>\n",
       "      <th></th>\n",
       "      <th></th>\n",
       "      <th></th>\n",
       "    </tr>\n",
       "  </thead>\n",
       "  <tbody>\n",
       "    <tr>\n",
       "      <th>10th</th>\n",
       "      <td>0</td>\n",
       "      <td>0</td>\n",
       "      <td>0</td>\n",
       "      <td>0</td>\n",
       "      <td>0</td>\n",
       "      <td>820</td>\n",
       "      <td>0</td>\n",
       "      <td>0</td>\n",
       "      <td>0</td>\n",
       "      <td>0</td>\n",
       "      <td>0</td>\n",
       "      <td>0</td>\n",
       "      <td>0</td>\n",
       "      <td>0</td>\n",
       "      <td>0</td>\n",
       "      <td>0</td>\n",
       "    </tr>\n",
       "    <tr>\n",
       "      <th>11th</th>\n",
       "      <td>0</td>\n",
       "      <td>0</td>\n",
       "      <td>0</td>\n",
       "      <td>0</td>\n",
       "      <td>0</td>\n",
       "      <td>0</td>\n",
       "      <td>1048</td>\n",
       "      <td>0</td>\n",
       "      <td>0</td>\n",
       "      <td>0</td>\n",
       "      <td>0</td>\n",
       "      <td>0</td>\n",
       "      <td>0</td>\n",
       "      <td>0</td>\n",
       "      <td>0</td>\n",
       "      <td>0</td>\n",
       "    </tr>\n",
       "    <tr>\n",
       "      <th>12th</th>\n",
       "      <td>0</td>\n",
       "      <td>0</td>\n",
       "      <td>0</td>\n",
       "      <td>0</td>\n",
       "      <td>0</td>\n",
       "      <td>0</td>\n",
       "      <td>0</td>\n",
       "      <td>377</td>\n",
       "      <td>0</td>\n",
       "      <td>0</td>\n",
       "      <td>0</td>\n",
       "      <td>0</td>\n",
       "      <td>0</td>\n",
       "      <td>0</td>\n",
       "      <td>0</td>\n",
       "      <td>0</td>\n",
       "    </tr>\n",
       "    <tr>\n",
       "      <th>1st-4th</th>\n",
       "      <td>0</td>\n",
       "      <td>149</td>\n",
       "      <td>0</td>\n",
       "      <td>0</td>\n",
       "      <td>0</td>\n",
       "      <td>0</td>\n",
       "      <td>0</td>\n",
       "      <td>0</td>\n",
       "      <td>0</td>\n",
       "      <td>0</td>\n",
       "      <td>0</td>\n",
       "      <td>0</td>\n",
       "      <td>0</td>\n",
       "      <td>0</td>\n",
       "      <td>0</td>\n",
       "      <td>0</td>\n",
       "    </tr>\n",
       "    <tr>\n",
       "      <th>5th-6th</th>\n",
       "      <td>0</td>\n",
       "      <td>0</td>\n",
       "      <td>287</td>\n",
       "      <td>0</td>\n",
       "      <td>0</td>\n",
       "      <td>0</td>\n",
       "      <td>0</td>\n",
       "      <td>0</td>\n",
       "      <td>0</td>\n",
       "      <td>0</td>\n",
       "      <td>0</td>\n",
       "      <td>0</td>\n",
       "      <td>0</td>\n",
       "      <td>0</td>\n",
       "      <td>0</td>\n",
       "      <td>0</td>\n",
       "    </tr>\n",
       "    <tr>\n",
       "      <th>7th-8th</th>\n",
       "      <td>0</td>\n",
       "      <td>0</td>\n",
       "      <td>0</td>\n",
       "      <td>556</td>\n",
       "      <td>0</td>\n",
       "      <td>0</td>\n",
       "      <td>0</td>\n",
       "      <td>0</td>\n",
       "      <td>0</td>\n",
       "      <td>0</td>\n",
       "      <td>0</td>\n",
       "      <td>0</td>\n",
       "      <td>0</td>\n",
       "      <td>0</td>\n",
       "      <td>0</td>\n",
       "      <td>0</td>\n",
       "    </tr>\n",
       "    <tr>\n",
       "      <th>9th</th>\n",
       "      <td>0</td>\n",
       "      <td>0</td>\n",
       "      <td>0</td>\n",
       "      <td>0</td>\n",
       "      <td>455</td>\n",
       "      <td>0</td>\n",
       "      <td>0</td>\n",
       "      <td>0</td>\n",
       "      <td>0</td>\n",
       "      <td>0</td>\n",
       "      <td>0</td>\n",
       "      <td>0</td>\n",
       "      <td>0</td>\n",
       "      <td>0</td>\n",
       "      <td>0</td>\n",
       "      <td>0</td>\n",
       "    </tr>\n",
       "    <tr>\n",
       "      <th>Assoc-acdm</th>\n",
       "      <td>0</td>\n",
       "      <td>0</td>\n",
       "      <td>0</td>\n",
       "      <td>0</td>\n",
       "      <td>0</td>\n",
       "      <td>0</td>\n",
       "      <td>0</td>\n",
       "      <td>0</td>\n",
       "      <td>0</td>\n",
       "      <td>0</td>\n",
       "      <td>0</td>\n",
       "      <td>1008</td>\n",
       "      <td>0</td>\n",
       "      <td>0</td>\n",
       "      <td>0</td>\n",
       "      <td>0</td>\n",
       "    </tr>\n",
       "    <tr>\n",
       "      <th>Assoc-voc</th>\n",
       "      <td>0</td>\n",
       "      <td>0</td>\n",
       "      <td>0</td>\n",
       "      <td>0</td>\n",
       "      <td>0</td>\n",
       "      <td>0</td>\n",
       "      <td>0</td>\n",
       "      <td>0</td>\n",
       "      <td>0</td>\n",
       "      <td>0</td>\n",
       "      <td>1307</td>\n",
       "      <td>0</td>\n",
       "      <td>0</td>\n",
       "      <td>0</td>\n",
       "      <td>0</td>\n",
       "      <td>0</td>\n",
       "    </tr>\n",
       "    <tr>\n",
       "      <th>Bachelors</th>\n",
       "      <td>0</td>\n",
       "      <td>0</td>\n",
       "      <td>0</td>\n",
       "      <td>0</td>\n",
       "      <td>0</td>\n",
       "      <td>0</td>\n",
       "      <td>0</td>\n",
       "      <td>0</td>\n",
       "      <td>0</td>\n",
       "      <td>0</td>\n",
       "      <td>0</td>\n",
       "      <td>0</td>\n",
       "      <td>5042</td>\n",
       "      <td>0</td>\n",
       "      <td>0</td>\n",
       "      <td>0</td>\n",
       "    </tr>\n",
       "    <tr>\n",
       "      <th>Doctorate</th>\n",
       "      <td>0</td>\n",
       "      <td>0</td>\n",
       "      <td>0</td>\n",
       "      <td>0</td>\n",
       "      <td>0</td>\n",
       "      <td>0</td>\n",
       "      <td>0</td>\n",
       "      <td>0</td>\n",
       "      <td>0</td>\n",
       "      <td>0</td>\n",
       "      <td>0</td>\n",
       "      <td>0</td>\n",
       "      <td>0</td>\n",
       "      <td>0</td>\n",
       "      <td>0</td>\n",
       "      <td>375</td>\n",
       "    </tr>\n",
       "    <tr>\n",
       "      <th>HS-grad</th>\n",
       "      <td>0</td>\n",
       "      <td>0</td>\n",
       "      <td>0</td>\n",
       "      <td>0</td>\n",
       "      <td>0</td>\n",
       "      <td>0</td>\n",
       "      <td>0</td>\n",
       "      <td>0</td>\n",
       "      <td>9834</td>\n",
       "      <td>0</td>\n",
       "      <td>0</td>\n",
       "      <td>0</td>\n",
       "      <td>0</td>\n",
       "      <td>0</td>\n",
       "      <td>0</td>\n",
       "      <td>0</td>\n",
       "    </tr>\n",
       "    <tr>\n",
       "      <th>Masters</th>\n",
       "      <td>0</td>\n",
       "      <td>0</td>\n",
       "      <td>0</td>\n",
       "      <td>0</td>\n",
       "      <td>0</td>\n",
       "      <td>0</td>\n",
       "      <td>0</td>\n",
       "      <td>0</td>\n",
       "      <td>0</td>\n",
       "      <td>0</td>\n",
       "      <td>0</td>\n",
       "      <td>0</td>\n",
       "      <td>0</td>\n",
       "      <td>1626</td>\n",
       "      <td>0</td>\n",
       "      <td>0</td>\n",
       "    </tr>\n",
       "    <tr>\n",
       "      <th>Preschool</th>\n",
       "      <td>44</td>\n",
       "      <td>0</td>\n",
       "      <td>0</td>\n",
       "      <td>0</td>\n",
       "      <td>0</td>\n",
       "      <td>0</td>\n",
       "      <td>0</td>\n",
       "      <td>0</td>\n",
       "      <td>0</td>\n",
       "      <td>0</td>\n",
       "      <td>0</td>\n",
       "      <td>0</td>\n",
       "      <td>0</td>\n",
       "      <td>0</td>\n",
       "      <td>0</td>\n",
       "      <td>0</td>\n",
       "    </tr>\n",
       "    <tr>\n",
       "      <th>Prof-school</th>\n",
       "      <td>0</td>\n",
       "      <td>0</td>\n",
       "      <td>0</td>\n",
       "      <td>0</td>\n",
       "      <td>0</td>\n",
       "      <td>0</td>\n",
       "      <td>0</td>\n",
       "      <td>0</td>\n",
       "      <td>0</td>\n",
       "      <td>0</td>\n",
       "      <td>0</td>\n",
       "      <td>0</td>\n",
       "      <td>0</td>\n",
       "      <td>0</td>\n",
       "      <td>542</td>\n",
       "      <td>0</td>\n",
       "    </tr>\n",
       "    <tr>\n",
       "      <th>Some-college</th>\n",
       "      <td>0</td>\n",
       "      <td>0</td>\n",
       "      <td>0</td>\n",
       "      <td>0</td>\n",
       "      <td>0</td>\n",
       "      <td>0</td>\n",
       "      <td>0</td>\n",
       "      <td>0</td>\n",
       "      <td>0</td>\n",
       "      <td>6669</td>\n",
       "      <td>0</td>\n",
       "      <td>0</td>\n",
       "      <td>0</td>\n",
       "      <td>0</td>\n",
       "      <td>0</td>\n",
       "      <td>0</td>\n",
       "    </tr>\n",
       "  </tbody>\n",
       "</table>\n",
       "</div>"
      ],
      "text/plain": [
       "education.num  1    2    3    4    5    6     7    8     9     10    11    12  \\\n",
       "education                                                                       \n",
       "10th            0    0    0    0    0  820     0    0     0     0     0     0   \n",
       "11th            0    0    0    0    0    0  1048    0     0     0     0     0   \n",
       "12th            0    0    0    0    0    0     0  377     0     0     0     0   \n",
       "1st-4th         0  149    0    0    0    0     0    0     0     0     0     0   \n",
       "5th-6th         0    0  287    0    0    0     0    0     0     0     0     0   \n",
       "7th-8th         0    0    0  556    0    0     0    0     0     0     0     0   \n",
       "9th             0    0    0    0  455    0     0    0     0     0     0     0   \n",
       "Assoc-acdm      0    0    0    0    0    0     0    0     0     0     0  1008   \n",
       "Assoc-voc       0    0    0    0    0    0     0    0     0     0  1307     0   \n",
       "Bachelors       0    0    0    0    0    0     0    0     0     0     0     0   \n",
       "Doctorate       0    0    0    0    0    0     0    0     0     0     0     0   \n",
       "HS-grad         0    0    0    0    0    0     0    0  9834     0     0     0   \n",
       "Masters         0    0    0    0    0    0     0    0     0     0     0     0   \n",
       "Preschool      44    0    0    0    0    0     0    0     0     0     0     0   \n",
       "Prof-school     0    0    0    0    0    0     0    0     0     0     0     0   \n",
       "Some-college    0    0    0    0    0    0     0    0     0  6669     0     0   \n",
       "\n",
       "education.num    13    14   15   16  \n",
       "education                            \n",
       "10th              0     0    0    0  \n",
       "11th              0     0    0    0  \n",
       "12th              0     0    0    0  \n",
       "1st-4th           0     0    0    0  \n",
       "5th-6th           0     0    0    0  \n",
       "7th-8th           0     0    0    0  \n",
       "9th               0     0    0    0  \n",
       "Assoc-acdm        0     0    0    0  \n",
       "Assoc-voc         0     0    0    0  \n",
       "Bachelors      5042     0    0    0  \n",
       "Doctorate         0     0    0  375  \n",
       "HS-grad           0     0    0    0  \n",
       "Masters           0  1626    0    0  \n",
       "Preschool         0     0    0    0  \n",
       "Prof-school       0     0  542    0  \n",
       "Some-college      0     0    0    0  "
      ]
     },
     "execution_count": 1549,
     "metadata": {},
     "output_type": "execute_result"
    }
   ],
   "source": [
    "cont_table = pd.crosstab(Census[\"education\"],Census[\"education.num\"], margins = False)\n",
    "cont_table"
   ]
  },
  {
   "cell_type": "code",
   "execution_count": 1372,
   "metadata": {
    "ExecuteTime": {
     "end_time": "2020-07-07T17:30:14.821823Z",
     "start_time": "2020-07-07T17:30:14.813845Z"
    }
   },
   "outputs": [],
   "source": [
    "Census= Census.drop(columns=['education'])\n",
    "Census_test= Census_test.drop(columns=['education'])"
   ]
  },
  {
   "cell_type": "markdown",
   "metadata": {},
   "source": [
    "## ChiSquare Test"
   ]
  },
  {
   "cell_type": "code",
   "execution_count": 1373,
   "metadata": {
    "ExecuteTime": {
     "end_time": "2020-07-07T17:30:14.839806Z",
     "start_time": "2020-07-07T17:30:14.822820Z"
    }
   },
   "outputs": [],
   "source": [
    "class ChiSquare:\n",
    "    def __init__(self, dataframe):\n",
    "        self.df = dataframe\n",
    "        self.p = None #P-Value\n",
    "        self.chi2 = None #Chi Test Statistic\n",
    "        self.dof = None\n",
    "        \n",
    "        self.dfObserved = None\n",
    "        self.dfExpected = None\n",
    "        \n",
    "    def _print_chisquare_result(self, colX, alpha):\n",
    "        result = \"\"\n",
    "        if self.p<alpha:\n",
    "            result=\"{0} is IMPORTANT for Prediction\".format(colX)\n",
    "        else:\n",
    "            result=\"{0} is NOT an important predictor. (Discard {0} from model)\".format(colX)\n",
    "        print(result)\n",
    "        \n",
    "    def TestIndependence(self,colX,colY, alpha=0.05):\n",
    "        X = self.df[colX].astype(str)\n",
    "        Y = self.df[colY].astype(str)\n",
    "        \n",
    "        self.dfObserved = pd.crosstab(Y,X) \n",
    "        chi2, p, dof, expected = stats.chi2_contingency(self.dfObserved.values)\n",
    "        self.p = p\n",
    "        self.chi2 = chi2\n",
    "        self.dof = dof \n",
    "        \n",
    "        self.dfExpected = pd.DataFrame(expected, columns=self.dfObserved.columns, index = self.dfObserved.index)\n",
    "        \n",
    "        self._print_chisquare_result(colX,alpha)"
   ]
  },
  {
   "cell_type": "code",
   "execution_count": 1374,
   "metadata": {
    "ExecuteTime": {
     "end_time": "2020-07-07T17:30:14.922584Z",
     "start_time": "2020-07-07T17:30:14.840773Z"
    }
   },
   "outputs": [
    {
     "name": "stdout",
     "output_type": "stream",
     "text": [
      "workclass is IMPORTANT for Prediction\n",
      "marital.status is IMPORTANT for Prediction\n",
      "occupation is IMPORTANT for Prediction\n",
      "race is IMPORTANT for Prediction\n",
      "sex is IMPORTANT for Prediction\n"
     ]
    }
   ],
   "source": [
    "cT = ChiSquare(Census)\n",
    "testColumns = ['workclass','marital.status','occupation','race','sex']\n",
    "for var in testColumns:\n",
    "    cT.TestIndependence(colX=var,colY=\"income\" )"
   ]
  },
  {
   "cell_type": "code",
   "execution_count": 1375,
   "metadata": {
    "ExecuteTime": {
     "end_time": "2020-07-07T17:30:15.340436Z",
     "start_time": "2020-07-07T17:30:14.923551Z"
    }
   },
   "outputs": [
    {
     "data": {
      "image/png": "[encoded data removed]",
      "text/plain": [
       "<Figure size 1440x504 with 4 Axes>"
      ]
     },
     "metadata": {
      "needs_background": "light"
     },
     "output_type": "display_data"
    }
   ],
   "source": [
    "%matplotlib inline\n",
    "fig,ax = plt.subplots(2,2,figsize=(20,7))\n",
    "sns.countplot(Census['workclass'],hue=Census['income'],ax=ax[0,0]);\n",
    "ax[0,0].get_legend().set_visible(False)\n",
    "plt.ylabel(' ')\n",
    "sns.countplot(Census['marital.status'],hue= Census['income'], ax=ax[0,1]);\n",
    "sns.countplot(Census['race'],hue= Census['income'],ax = ax[1,0]);\n",
    "ax[1,0].get_legend().set_visible(False)\n",
    "sns.countplot(Census['sex'],hue= Census['income'],ax = ax[1,1]);"
   ]
  },
  {
   "cell_type": "code",
   "execution_count": 1559,
   "metadata": {
    "ExecuteTime": {
     "end_time": "2020-07-07T23:48:46.680684Z",
     "start_time": "2020-07-07T23:48:46.658319Z"
    }
   },
   "outputs": [
    {
     "data": {
      "text/html": [
       "<div>\n",
       "<style scoped>\n",
       "    .dataframe tbody tr th:only-of-type {\n",
       "        vertical-align: middle;\n",
       "    }\n",
       "\n",
       "    .dataframe tbody tr th {\n",
       "        vertical-align: top;\n",
       "    }\n",
       "\n",
       "    .dataframe thead th {\n",
       "        text-align: right;\n",
       "    }\n",
       "</style>\n",
       "<table border=\"1\" class=\"dataframe\">\n",
       "  <thead>\n",
       "    <tr style=\"text-align: right;\">\n",
       "      <th></th>\n",
       "      <th></th>\n",
       "      <th>race</th>\n",
       "    </tr>\n",
       "    <tr>\n",
       "      <th>occupation</th>\n",
       "      <th>income</th>\n",
       "      <th></th>\n",
       "    </tr>\n",
       "  </thead>\n",
       "  <tbody>\n",
       "    <tr>\n",
       "      <th rowspan=\"2\" valign=\"top\">Adm-clerical</th>\n",
       "      <th>high</th>\n",
       "      <td>498</td>\n",
       "    </tr>\n",
       "    <tr>\n",
       "      <th>low</th>\n",
       "      <td>3221</td>\n",
       "    </tr>\n",
       "    <tr>\n",
       "      <th rowspan=\"2\" valign=\"top\">Craft-repair</th>\n",
       "      <th>high</th>\n",
       "      <td>908</td>\n",
       "    </tr>\n",
       "    <tr>\n",
       "      <th>low</th>\n",
       "      <td>3117</td>\n",
       "    </tr>\n",
       "    <tr>\n",
       "      <th rowspan=\"2\" valign=\"top\">Exec-managerial</th>\n",
       "      <th>high</th>\n",
       "      <td>1937</td>\n",
       "    </tr>\n",
       "    <tr>\n",
       "      <th>low</th>\n",
       "      <td>2054</td>\n",
       "    </tr>\n",
       "    <tr>\n",
       "      <th rowspan=\"2\" valign=\"top\">Other</th>\n",
       "      <th>high</th>\n",
       "      <td>1383</td>\n",
       "    </tr>\n",
       "    <tr>\n",
       "      <th>low</th>\n",
       "      <td>9403</td>\n",
       "    </tr>\n",
       "    <tr>\n",
       "      <th rowspan=\"2\" valign=\"top\">Prof-specialty</th>\n",
       "      <th>high</th>\n",
       "      <td>1810</td>\n",
       "    </tr>\n",
       "    <tr>\n",
       "      <th>low</th>\n",
       "      <td>2224</td>\n",
       "    </tr>\n",
       "    <tr>\n",
       "      <th rowspan=\"2\" valign=\"top\">Sales</th>\n",
       "      <th>high</th>\n",
       "      <td>970</td>\n",
       "    </tr>\n",
       "    <tr>\n",
       "      <th>low</th>\n",
       "      <td>2614</td>\n",
       "    </tr>\n",
       "  </tbody>\n",
       "</table>\n",
       "</div>"
      ],
      "text/plain": [
       "                        race\n",
       "occupation      income      \n",
       "Adm-clerical    high     498\n",
       "                low     3221\n",
       "Craft-repair    high     908\n",
       "                low     3117\n",
       "Exec-managerial high    1937\n",
       "                low     2054\n",
       "Other           high    1383\n",
       "                low     9403\n",
       "Prof-specialty  high    1810\n",
       "                low     2224\n",
       "Sales           high     970\n",
       "                low     2614"
      ]
     },
     "execution_count": 1559,
     "metadata": {},
     "output_type": "execute_result"
    }
   ],
   "source": [
    "Census.groupby(['occupation','income']).agg({'race':'count'})"
   ]
  },
  {
   "cell_type": "code",
   "execution_count": 1376,
   "metadata": {
    "ExecuteTime": {
     "end_time": "2020-07-07T17:30:15.544889Z",
     "start_time": "2020-07-07T17:30:15.341434Z"
    }
   },
   "outputs": [
    {
     "data": {
      "image/png": "[encoded data removed]",
      "text/plain": [
       "<Figure size 1440x648 with 1 Axes>"
      ]
     },
     "metadata": {
      "needs_background": "light"
     },
     "output_type": "display_data"
    }
   ],
   "source": [
    "fig,ax = plt.subplots(1,1,figsize=(20,9))\n",
    "chart = sns.countplot(Census['occupation'],hue=Census['income']);\n",
    "ax.set_xticklabels(chart.get_xticklabels(),rotation=45);"
   ]
  },
  {
   "cell_type": "code",
   "execution_count": 1509,
   "metadata": {
    "ExecuteTime": {
     "end_time": "2020-07-07T21:32:43.012063Z",
     "start_time": "2020-07-07T21:32:42.836521Z"
    }
   },
   "outputs": [
    {
     "data": {
      "image/png": "[encoded data removed]",
      "text/plain": [
       "<Figure size 576x576 with 2 Axes>"
      ]
     },
     "metadata": {
      "needs_background": "light"
     },
     "output_type": "display_data"
    },
    {
     "data": {
      "text/plain": [
       "<Figure size 432x288 with 0 Axes>"
      ]
     },
     "metadata": {},
     "output_type": "display_data"
    }
   ],
   "source": [
    "plt.figure(figsize=(8,8))\n",
    "sns.heatmap(Census.corr(),annot=True,fmt='.2f')\n",
    "plt.show()"
   ]
  },
  {
   "cell_type": "markdown",
   "metadata": {},
   "source": [
    "# Feature Selection"
   ]
  },
  {
   "cell_type": "markdown",
   "metadata": {},
   "source": [
    "## Using AIC"
   ]
  },
  {
   "cell_type": "markdown",
   "metadata": {},
   "source": [
    "The following output is generated when stepwise AIC function in R is used. The following variables are important when AIC criteria is considered\n",
    "- Marital Status\n",
    "- Education.Num\n",
    "- Income Overall\n",
    "- Occupation\n",
    "- Hours.per.week\n",
    "- age\n",
    "- sex\n",
    "- native.country\n",
    "- workclass\n",
    "- race"
   ]
  },
  {
   "cell_type": "code",
   "execution_count": 1378,
   "metadata": {
    "ExecuteTime": {
     "end_time": "2020-07-07T17:30:15.715467Z",
     "start_time": "2020-07-07T17:30:15.710445Z"
    }
   },
   "outputs": [
    {
     "data": {
      "image/png": "[encoded data removed]",
      "text/plain": [
       "<IPython.core.display.Image object>"
      ]
     },
     "execution_count": 1378,
     "metadata": {},
     "output_type": "execute_result"
    }
   ],
   "source": [
    "Image(\"C:/Personal/UC BANA Flex 5/Capstone/AIC_Results_1.png\")"
   ]
  },
  {
   "cell_type": "code",
   "execution_count": 1379,
   "metadata": {
    "ExecuteTime": {
     "end_time": "2020-07-07T17:30:15.726436Z",
     "start_time": "2020-07-07T17:30:15.716429Z"
    }
   },
   "outputs": [
    {
     "data": {
      "image/png": "[encoded data removed]",
      "text/plain": [
       "<IPython.core.display.Image object>"
      ]
     },
     "execution_count": 1379,
     "metadata": {},
     "output_type": "execute_result"
    }
   ],
   "source": [
    "Image(\"C:/Personal/UC BANA Flex 5/Capstone/AIC_Results_2.png\")"
   ]
  },
  {
   "cell_type": "markdown",
   "metadata": {},
   "source": [
    "## Using BIC"
   ]
  },
  {
   "cell_type": "markdown",
   "metadata": {},
   "source": [
    "The following output is generated when stepwise BIC function in R is used. The following variables are important when BIC criteria is considered\n",
    "- Marital Status\n",
    "- Education.Num\n",
    "- Income Overall\n",
    "- Occupation\n",
    "- Hours.per.week\n",
    "- age\n",
    "- sex"
   ]
  },
  {
   "cell_type": "code",
   "execution_count": 1380,
   "metadata": {
    "ExecuteTime": {
     "end_time": "2020-07-07T17:30:15.735378Z",
     "start_time": "2020-07-07T17:30:15.727402Z"
    }
   },
   "outputs": [
    {
     "data": {
      "image/png": "[encoded data removed]",
      "text/plain": [
       "<IPython.core.display.Image object>"
      ]
     },
     "execution_count": 1380,
     "metadata": {},
     "output_type": "execute_result"
    }
   ],
   "source": [
    "Image(\"C:/Personal/UC BANA Flex 5/Capstone/BIC_results_1.png\")"
   ]
  },
  {
   "cell_type": "code",
   "execution_count": 1381,
   "metadata": {
    "ExecuteTime": {
     "end_time": "2020-07-07T17:30:15.744354Z",
     "start_time": "2020-07-07T17:30:15.736376Z"
    }
   },
   "outputs": [
    {
     "data": {
      "image/png": "[encoded data removed]",
      "text/plain": [
       "<IPython.core.display.Image object>"
      ]
     },
     "execution_count": 1381,
     "metadata": {},
     "output_type": "execute_result"
    }
   ],
   "source": [
    "Image(\"C:/Personal/UC BANA Flex 5/Capstone/BIC_results_2.png\")"
   ]
  },
  {
   "cell_type": "markdown",
   "metadata": {},
   "source": [
    "## Using Lasso"
   ]
  },
  {
   "cell_type": "code",
   "execution_count": 1382,
   "metadata": {
    "ExecuteTime": {
     "end_time": "2020-07-07T17:30:16.344785Z",
     "start_time": "2020-07-07T17:30:15.745353Z"
    }
   },
   "outputs": [],
   "source": [
    "X_lasso = Census.copy()\n",
    "X_lasso = X_lasso.drop(columns='income')\n",
    "Y_lasso = Census['income']\n",
    "X_lasso_encoded = pd.get_dummies(columns=['workclass','marital.status','occupation','race','sex','income_overall'],data=\n",
    "                                X_lasso,drop_first=True)\n",
    "Lr = LogisticRegression(fit_intercept=True,penalty='l1',solver='liblinear')\n",
    "Lr.fit(X_lasso_encoded,Y_lasso)\n",
    "Results = pd.DataFrame({'columns':X_lasso_encoded.columns,'coeff':Lr.coef_.flatten()})"
   ]
  },
  {
   "cell_type": "code",
   "execution_count": 1383,
   "metadata": {
    "ExecuteTime": {
     "end_time": "2020-07-07T17:30:16.352760Z",
     "start_time": "2020-07-07T17:30:16.345747Z"
    }
   },
   "outputs": [
    {
     "data": {
      "text/html": [
       "<div>\n",
       "<style scoped>\n",
       "    .dataframe tbody tr th:only-of-type {\n",
       "        vertical-align: middle;\n",
       "    }\n",
       "\n",
       "    .dataframe tbody tr th {\n",
       "        vertical-align: top;\n",
       "    }\n",
       "\n",
       "    .dataframe thead th {\n",
       "        text-align: right;\n",
       "    }\n",
       "</style>\n",
       "<table border=\"1\" class=\"dataframe\">\n",
       "  <thead>\n",
       "    <tr style=\"text-align: right;\">\n",
       "      <th></th>\n",
       "      <th>columns</th>\n",
       "      <th>coeff</th>\n",
       "    </tr>\n",
       "  </thead>\n",
       "  <tbody>\n",
       "    <tr>\n",
       "      <th>15</th>\n",
       "      <td>income_overall_Positive</td>\n",
       "      <td>-1.580865</td>\n",
       "    </tr>\n",
       "    <tr>\n",
       "      <th>9</th>\n",
       "      <td>occupation_Exec-managerial</td>\n",
       "      <td>-0.771880</td>\n",
       "    </tr>\n",
       "    <tr>\n",
       "      <th>11</th>\n",
       "      <td>occupation_Prof-specialty</td>\n",
       "      <td>-0.434100</td>\n",
       "    </tr>\n",
       "    <tr>\n",
       "      <th>1</th>\n",
       "      <td>education.num</td>\n",
       "      <td>-0.306858</td>\n",
       "    </tr>\n",
       "    <tr>\n",
       "      <th>12</th>\n",
       "      <td>occupation_Sales</td>\n",
       "      <td>-0.245364</td>\n",
       "    </tr>\n",
       "    <tr>\n",
       "      <th>14</th>\n",
       "      <td>sex_Male</td>\n",
       "      <td>-0.235973</td>\n",
       "    </tr>\n",
       "    <tr>\n",
       "      <th>13</th>\n",
       "      <td>race_White</td>\n",
       "      <td>-0.171827</td>\n",
       "    </tr>\n",
       "    <tr>\n",
       "      <th>2</th>\n",
       "      <td>hours.per.week</td>\n",
       "      <td>-0.029026</td>\n",
       "    </tr>\n",
       "    <tr>\n",
       "      <th>0</th>\n",
       "      <td>age</td>\n",
       "      <td>-0.027053</td>\n",
       "    </tr>\n",
       "    <tr>\n",
       "      <th>8</th>\n",
       "      <td>occupation_Craft-repair</td>\n",
       "      <td>0.033808</td>\n",
       "    </tr>\n",
       "    <tr>\n",
       "      <th>4</th>\n",
       "      <td>workclass_Private</td>\n",
       "      <td>0.036275</td>\n",
       "    </tr>\n",
       "    <tr>\n",
       "      <th>5</th>\n",
       "      <td>workclass_Self-Emp</td>\n",
       "      <td>0.343059</td>\n",
       "    </tr>\n",
       "    <tr>\n",
       "      <th>10</th>\n",
       "      <td>occupation_Other</td>\n",
       "      <td>0.350150</td>\n",
       "    </tr>\n",
       "    <tr>\n",
       "      <th>3</th>\n",
       "      <td>workclass_Not Working</td>\n",
       "      <td>1.581657</td>\n",
       "    </tr>\n",
       "    <tr>\n",
       "      <th>7</th>\n",
       "      <td>marital.status_Separated</td>\n",
       "      <td>2.078661</td>\n",
       "    </tr>\n",
       "    <tr>\n",
       "      <th>6</th>\n",
       "      <td>marital.status_Never-married</td>\n",
       "      <td>2.548833</td>\n",
       "    </tr>\n",
       "  </tbody>\n",
       "</table>\n",
       "</div>"
      ],
      "text/plain": [
       "                         columns     coeff\n",
       "15       income_overall_Positive -1.580865\n",
       "9     occupation_Exec-managerial -0.771880\n",
       "11     occupation_Prof-specialty -0.434100\n",
       "1                  education.num -0.306858\n",
       "12              occupation_Sales -0.245364\n",
       "14                      sex_Male -0.235973\n",
       "13                    race_White -0.171827\n",
       "2                 hours.per.week -0.029026\n",
       "0                            age -0.027053\n",
       "8        occupation_Craft-repair  0.033808\n",
       "4              workclass_Private  0.036275\n",
       "5             workclass_Self-Emp  0.343059\n",
       "10              occupation_Other  0.350150\n",
       "3          workclass_Not Working  1.581657\n",
       "7       marital.status_Separated  2.078661\n",
       "6   marital.status_Never-married  2.548833"
      ]
     },
     "execution_count": 1383,
     "metadata": {},
     "output_type": "execute_result"
    }
   ],
   "source": [
    "Results.sort_values(by='coeff')"
   ]
  },
  {
   "cell_type": "code",
   "execution_count": 1384,
   "metadata": {
    "ExecuteTime": {
     "end_time": "2020-07-07T17:30:16.402629Z",
     "start_time": "2020-07-07T17:30:16.353725Z"
    }
   },
   "outputs": [],
   "source": [
    "Census_decoded =  pd.get_dummies(columns=['workclass','marital.status','occupation','race','sex','income_overall'],data=Census)"
   ]
  },
  {
   "cell_type": "code",
   "execution_count": 1385,
   "metadata": {
    "ExecuteTime": {
     "end_time": "2020-07-07T17:30:18.522129Z",
     "start_time": "2020-07-07T17:30:16.406589Z"
    }
   },
   "outputs": [],
   "source": [
    "RF = RandomForestClassifier()\n",
    "X_RF = Census_decoded.loc[ :, Census_decoded.columns != \"income\"]\n",
    "RF.fit(X_RF, Census_decoded[\"income\"]);"
   ]
  },
  {
   "cell_type": "code",
   "execution_count": 1386,
   "metadata": {
    "ExecuteTime": {
     "end_time": "2020-07-07T17:30:18.541080Z",
     "start_time": "2020-07-07T17:30:18.523126Z"
    }
   },
   "outputs": [],
   "source": [
    "Feature_Importances = pd.DataFrame({'features':X_RF.columns,'Coeff':RF.feature_importances_})"
   ]
  },
  {
   "cell_type": "code",
   "execution_count": 1387,
   "metadata": {
    "ExecuteTime": {
     "end_time": "2020-07-07T17:30:18.558035Z",
     "start_time": "2020-07-07T17:30:18.542077Z"
    }
   },
   "outputs": [],
   "source": [
    "Feature_Importances = Feature_Importances.sort_values(by='Coeff',ascending=False).reset_index(drop=True)"
   ]
  },
  {
   "cell_type": "code",
   "execution_count": 1388,
   "metadata": {
    "ExecuteTime": {
     "end_time": "2020-07-07T17:30:18.841277Z",
     "start_time": "2020-07-07T17:30:18.563020Z"
    }
   },
   "outputs": [
    {
     "data": {
      "image/png": "[encoded data removed]",
      "text/plain": [
       "<Figure size 1008x720 with 1 Axes>"
      ]
     },
     "metadata": {
      "needs_background": "light"
     },
     "output_type": "display_data"
    }
   ],
   "source": [
    "plt.figure(figsize=(14,10))\n",
    "sns.barplot(x='Coeff',y='features',data = Feature_Importances);"
   ]
  },
  {
   "cell_type": "code",
   "execution_count": 1389,
   "metadata": {
    "ExecuteTime": {
     "end_time": "2020-07-07T17:30:18.852247Z",
     "start_time": "2020-07-07T17:30:18.843272Z"
    }
   },
   "outputs": [
    {
     "data": {
      "text/html": [
       "<div>\n",
       "<style scoped>\n",
       "    .dataframe tbody tr th:only-of-type {\n",
       "        vertical-align: middle;\n",
       "    }\n",
       "\n",
       "    .dataframe tbody tr th {\n",
       "        vertical-align: top;\n",
       "    }\n",
       "\n",
       "    .dataframe thead th {\n",
       "        text-align: right;\n",
       "    }\n",
       "</style>\n",
       "<table border=\"1\" class=\"dataframe\">\n",
       "  <thead>\n",
       "    <tr style=\"text-align: right;\">\n",
       "      <th></th>\n",
       "      <th>features</th>\n",
       "      <th>Coeff</th>\n",
       "    </tr>\n",
       "  </thead>\n",
       "  <tbody>\n",
       "    <tr>\n",
       "      <th>14</th>\n",
       "      <td>workclass_Self-Emp</td>\n",
       "      <td>0.008704</td>\n",
       "    </tr>\n",
       "    <tr>\n",
       "      <th>15</th>\n",
       "      <td>occupation_Craft-repair</td>\n",
       "      <td>0.008499</td>\n",
       "    </tr>\n",
       "    <tr>\n",
       "      <th>16</th>\n",
       "      <td>workclass_Govt</td>\n",
       "      <td>0.007757</td>\n",
       "    </tr>\n",
       "    <tr>\n",
       "      <th>17</th>\n",
       "      <td>occupation_Sales</td>\n",
       "      <td>0.006977</td>\n",
       "    </tr>\n",
       "    <tr>\n",
       "      <th>18</th>\n",
       "      <td>race_Other</td>\n",
       "      <td>0.006200</td>\n",
       "    </tr>\n",
       "    <tr>\n",
       "      <th>19</th>\n",
       "      <td>race_White</td>\n",
       "      <td>0.006156</td>\n",
       "    </tr>\n",
       "    <tr>\n",
       "      <th>20</th>\n",
       "      <td>occupation_Adm-clerical</td>\n",
       "      <td>0.005702</td>\n",
       "    </tr>\n",
       "    <tr>\n",
       "      <th>21</th>\n",
       "      <td>workclass_Not Working</td>\n",
       "      <td>0.000118</td>\n",
       "    </tr>\n",
       "  </tbody>\n",
       "</table>\n",
       "</div>"
      ],
      "text/plain": [
       "                   features     Coeff\n",
       "14       workclass_Self-Emp  0.008704\n",
       "15  occupation_Craft-repair  0.008499\n",
       "16           workclass_Govt  0.007757\n",
       "17         occupation_Sales  0.006977\n",
       "18               race_Other  0.006200\n",
       "19               race_White  0.006156\n",
       "20  occupation_Adm-clerical  0.005702\n",
       "21    workclass_Not Working  0.000118"
      ]
     },
     "execution_count": 1389,
     "metadata": {},
     "output_type": "execute_result"
    }
   ],
   "source": [
    "Feature_Importances.loc[Feature_Importances['Coeff']<0.01,:]"
   ]
  },
  {
   "cell_type": "code",
   "execution_count": 1390,
   "metadata": {
    "ExecuteTime": {
     "end_time": "2020-07-07T17:30:18.871230Z",
     "start_time": "2020-07-07T17:30:18.853245Z"
    }
   },
   "outputs": [],
   "source": [
    "Census['income'] = [1 if x=='high' else 0 for x in Census['income']]\n"
   ]
  },
  {
   "cell_type": "code",
   "execution_count": 1391,
   "metadata": {
    "ExecuteTime": {
     "end_time": "2020-07-07T17:30:18.886156Z",
     "start_time": "2020-07-07T17:30:18.872194Z"
    }
   },
   "outputs": [],
   "source": [
    "Census_test['income'] = [1 if x=='high' else 0 for x in Census_test['income']]"
   ]
  },
  {
   "cell_type": "code",
   "execution_count": 1392,
   "metadata": {
    "ExecuteTime": {
     "end_time": "2020-07-07T17:30:18.898123Z",
     "start_time": "2020-07-07T17:30:18.887154Z"
    }
   },
   "outputs": [],
   "source": [
    "Summary = pd.DataFrame(columns=['model','train-test','accuracy','AUC','precision','recall','f1'])"
   ]
  },
  {
   "cell_type": "markdown",
   "metadata": {},
   "source": [
    "# Train Test Split"
   ]
  },
  {
   "cell_type": "code",
   "execution_count": 1393,
   "metadata": {
    "ExecuteTime": {
     "end_time": "2020-07-07T17:30:18.912092Z",
     "start_time": "2020-07-07T17:30:18.899122Z"
    }
   },
   "outputs": [],
   "source": [
    "X = Census.loc[:,Census.columns !='income']\n",
    "y = Census['income']"
   ]
  },
  {
   "cell_type": "code",
   "execution_count": 1394,
   "metadata": {
    "ExecuteTime": {
     "end_time": "2020-07-07T17:30:18.928076Z",
     "start_time": "2020-07-07T17:30:18.914083Z"
    }
   },
   "outputs": [],
   "source": [
    "X_train, X_val, y_train, y_val = train_test_split(X,y,test_size=0.3,random_state=13261058)"
   ]
  },
  {
   "cell_type": "markdown",
   "metadata": {},
   "source": [
    "# Encoding categorical variables"
   ]
  },
  {
   "cell_type": "code",
   "execution_count": 1395,
   "metadata": {
    "ExecuteTime": {
     "end_time": "2020-07-07T17:30:18.964945Z",
     "start_time": "2020-07-07T17:30:18.929042Z"
    }
   },
   "outputs": [],
   "source": [
    "X_train_encoded = pd.get_dummies(columns= ['workclass','marital.status','occupation','race','sex','income_overall'],data=X_train )\n",
    "X_val_encoded = pd.get_dummies(columns= ['workclass','marital.status','occupation','race','sex','income_overall'],data=X_val )"
   ]
  },
  {
   "cell_type": "markdown",
   "metadata": {},
   "source": [
    "Dropping few variables to avoid multicolinearity "
   ]
  },
  {
   "cell_type": "code",
   "execution_count": 1396,
   "metadata": {
    "ExecuteTime": {
     "end_time": "2020-07-07T17:30:18.975917Z",
     "start_time": "2020-07-07T17:30:18.965943Z"
    }
   },
   "outputs": [],
   "source": [
    "X_train_encoded = X_train_encoded.drop(columns = ['workclass_Self-Emp','marital.status_Separated','occupation_Adm-clerical','race_Other','sex_Female','income_overall_Negative'])\n",
    "X_val_encoded = X_val_encoded.drop(columns = ['workclass_Self-Emp','marital.status_Separated','occupation_Adm-clerical','race_Other','sex_Female','income_overall_Negative'])"
   ]
  },
  {
   "cell_type": "markdown",
   "metadata": {},
   "source": [
    "# Modeling"
   ]
  },
  {
   "cell_type": "markdown",
   "metadata": {},
   "source": [
    "## Logistic Regression - All Variables"
   ]
  },
  {
   "cell_type": "code",
   "execution_count": 1397,
   "metadata": {
    "ExecuteTime": {
     "end_time": "2020-07-07T17:30:19.124518Z",
     "start_time": "2020-07-07T17:30:18.976915Z"
    }
   },
   "outputs": [
    {
     "name": "stderr",
     "output_type": "stream",
     "text": [
      "C:\\Users\\mukka\\AppData\\Local\\Continuum\\anaconda3\\lib\\site-packages\\sklearn\\linear_model\\_logistic.py:940: ConvergenceWarning: lbfgs failed to converge (status=1):\n",
      "STOP: TOTAL NO. of ITERATIONS REACHED LIMIT.\n",
      "\n",
      "Increase the number of iterations (max_iter) or scale the data as shown in:\n",
      "    https://scikit-learn.org/stable/modules/preprocessing.html\n",
      "Please also refer to the documentation for alternative solver options:\n",
      "    https://scikit-learn.org/stable/modules/linear_model.html#logistic-regression\n",
      "  extra_warning_msg=_LOGISTIC_SOLVER_CONVERGENCE_MSG)\n"
     ]
    },
    {
     "data": {
      "text/plain": [
       "LogisticRegression(C=1.0, class_weight=None, dual=False, fit_intercept=True,\n",
       "                   intercept_scaling=1, l1_ratio=None, max_iter=100,\n",
       "                   multi_class='auto', n_jobs=None, penalty='l2',\n",
       "                   random_state=None, solver='lbfgs', tol=0.0001, verbose=0,\n",
       "                   warm_start=False)"
      ]
     },
     "execution_count": 1397,
     "metadata": {},
     "output_type": "execute_result"
    }
   ],
   "source": [
    "LR = LogisticRegression()\n",
    "LR.fit(X_train_encoded,y_train)"
   ]
  },
  {
   "cell_type": "code",
   "execution_count": 1398,
   "metadata": {
    "ExecuteTime": {
     "end_time": "2020-07-07T17:30:19.173388Z",
     "start_time": "2020-07-07T17:30:19.125515Z"
    }
   },
   "outputs": [],
   "source": [
    "LR_precision = precision_score(y_train,LR.predict(X_train_encoded))\n",
    "LR_recall = recall_score(y_train,LR.predict(X_train_encoded))\n",
    "LR_accuracy = accuracy_score(y_train,LR.predict(X_train_encoded))\n",
    "LR_f1 = f1_score(y_train,LR.predict(X_train_encoded))\n",
    "LR_AUC = roc_auc_score(y_train,LR.predict_proba(X_train_encoded)[:,-1])"
   ]
  },
  {
   "cell_type": "code",
   "execution_count": 1399,
   "metadata": {
    "ExecuteTime": {
     "end_time": "2020-07-07T17:30:19.181366Z",
     "start_time": "2020-07-07T17:30:19.174385Z"
    }
   },
   "outputs": [],
   "source": [
    "Summary = Summary.append({\"model\":\"Logistic Regression- All variables\", 'train-test' : 'train','accuracy':LR_accuracy,'AUC':LR_AUC,'precision':LR_precision,'recall':LR_recall,'f1':LR_f1}, ignore_index=  True)"
   ]
  },
  {
   "cell_type": "markdown",
   "metadata": {},
   "source": [
    "### validation Data"
   ]
  },
  {
   "cell_type": "code",
   "execution_count": 1400,
   "metadata": {
    "ExecuteTime": {
     "end_time": "2020-07-07T17:30:19.213281Z",
     "start_time": "2020-07-07T17:30:19.182363Z"
    }
   },
   "outputs": [],
   "source": [
    "LR_precision_val = precision_score(y_val,LR.predict(X_val_encoded))\n",
    "LR_recall_val = recall_score(y_val,LR.predict(X_val_encoded))\n",
    "LR_accuracy_val = accuracy_score(y_val,LR.predict(X_val_encoded))\n",
    "LR_f1_val = f1_score(y_val,LR.predict(X_val_encoded))\n",
    "LR_AUC_val = roc_auc_score(y_val,LR.predict_proba(X_val_encoded)[:,-1])"
   ]
  },
  {
   "cell_type": "code",
   "execution_count": 1401,
   "metadata": {
    "ExecuteTime": {
     "end_time": "2020-07-07T17:30:19.223253Z",
     "start_time": "2020-07-07T17:30:19.215275Z"
    }
   },
   "outputs": [],
   "source": [
    "Summary = Summary.append({\"model\":\"Logistic Regression- All variables\", 'train-test' : 'val','accuracy':LR_accuracy_val,'AUC':LR_AUC_val,'precision':LR_precision_val,'recall':LR_recall_val,'f1':LR_f1_val}, ignore_index=  True)"
   ]
  },
  {
   "cell_type": "markdown",
   "metadata": {},
   "source": [
    "# Logistic Regression - BIC Variables"
   ]
  },
  {
   "cell_type": "code",
   "execution_count": 1402,
   "metadata": {
    "ExecuteTime": {
     "end_time": "2020-07-07T17:30:19.234224Z",
     "start_time": "2020-07-07T17:30:19.224251Z"
    }
   },
   "outputs": [],
   "source": [
    "X_filtered_train = X_train_encoded.drop(columns=['race_White'])\n",
    "X_filtered_val = X_val_encoded.drop(columns=['race_White'])"
   ]
  },
  {
   "cell_type": "code",
   "execution_count": 1403,
   "metadata": {
    "ExecuteTime": {
     "end_time": "2020-07-07T17:30:19.381833Z",
     "start_time": "2020-07-07T17:30:19.235222Z"
    }
   },
   "outputs": [
    {
     "name": "stderr",
     "output_type": "stream",
     "text": [
      "C:\\Users\\mukka\\AppData\\Local\\Continuum\\anaconda3\\lib\\site-packages\\sklearn\\linear_model\\_logistic.py:940: ConvergenceWarning: lbfgs failed to converge (status=1):\n",
      "STOP: TOTAL NO. of ITERATIONS REACHED LIMIT.\n",
      "\n",
      "Increase the number of iterations (max_iter) or scale the data as shown in:\n",
      "    https://scikit-learn.org/stable/modules/preprocessing.html\n",
      "Please also refer to the documentation for alternative solver options:\n",
      "    https://scikit-learn.org/stable/modules/linear_model.html#logistic-regression\n",
      "  extra_warning_msg=_LOGISTIC_SOLVER_CONVERGENCE_MSG)\n"
     ]
    },
    {
     "data": {
      "text/plain": [
       "LogisticRegression(C=1.0, class_weight=None, dual=False, fit_intercept=True,\n",
       "                   intercept_scaling=1, l1_ratio=None, max_iter=100,\n",
       "                   multi_class='auto', n_jobs=None, penalty='l2',\n",
       "                   random_state=None, solver='lbfgs', tol=0.0001, verbose=0,\n",
       "                   warm_start=False)"
      ]
     },
     "execution_count": 1403,
     "metadata": {},
     "output_type": "execute_result"
    }
   ],
   "source": [
    "LR = LogisticRegression()\n",
    "LR.fit(X_filtered_train,y_train)"
   ]
  },
  {
   "cell_type": "code",
   "execution_count": 1404,
   "metadata": {
    "ExecuteTime": {
     "end_time": "2020-07-07T17:30:19.430732Z",
     "start_time": "2020-07-07T17:30:19.383825Z"
    }
   },
   "outputs": [],
   "source": [
    "LR_precision_subset = precision_score(y_train,LR.predict(X_filtered_train))\n",
    "LR_recall_subset = recall_score(y_train,LR.predict(X_filtered_train))\n",
    "LR_accuracy_subset = accuracy_score(y_train,LR.predict(X_filtered_train))\n",
    "LR_f1_subset = f1_score(y_train,LR.predict(X_filtered_train))\n",
    "LR_AUC_subset = roc_auc_score(y_train,LR.predict_proba(X_filtered_train)[:,-1])"
   ]
  },
  {
   "cell_type": "code",
   "execution_count": 1405,
   "metadata": {
    "ExecuteTime": {
     "end_time": "2020-07-07T17:30:19.441671Z",
     "start_time": "2020-07-07T17:30:19.431697Z"
    }
   },
   "outputs": [],
   "source": [
    "Summary = Summary.append({\"model\":\"Logistic Regression- BIC Variables\", 'train-test' : 'train','accuracy':LR_accuracy_subset,'AUC':LR_AUC_subset,'precision':LR_precision_subset,'recall':LR_recall_subset,'f1':LR_f1_subset}, ignore_index=  True)"
   ]
  },
  {
   "cell_type": "markdown",
   "metadata": {},
   "source": [
    "### Validation Data"
   ]
  },
  {
   "cell_type": "code",
   "execution_count": 1406,
   "metadata": {
    "ExecuteTime": {
     "end_time": "2020-07-07T17:30:19.475619Z",
     "start_time": "2020-07-07T17:30:19.442668Z"
    }
   },
   "outputs": [],
   "source": [
    "LR_precision_subset_val = precision_score(y_val,LR.predict(X_filtered_val))\n",
    "LR_recall_subset_val = recall_score(y_val,LR.predict(X_filtered_val))\n",
    "LR_accuracy_subset_val = accuracy_score(y_val,LR.predict(X_filtered_val))\n",
    "LR_f1_subset_val = f1_score(y_val,LR.predict(X_filtered_val))\n",
    "LR_AUC_subset_val = roc_auc_score(y_val,LR.predict_proba(X_filtered_val)[:,-1])"
   ]
  },
  {
   "cell_type": "code",
   "execution_count": 1407,
   "metadata": {
    "ExecuteTime": {
     "end_time": "2020-07-07T17:30:19.487548Z",
     "start_time": "2020-07-07T17:30:19.477574Z"
    }
   },
   "outputs": [],
   "source": [
    "Summary = Summary.append({\"model\":\"Logistic Regression- BIC Variables\", 'train-test' : 'val','accuracy':LR_accuracy_subset_val,'AUC':LR_AUC_subset_val,'precision':LR_precision_subset_val,'recall':LR_recall_subset_val,'f1':LR_f1_subset_val}, ignore_index=  True)"
   ]
  },
  {
   "cell_type": "markdown",
   "metadata": {},
   "source": [
    "# Decision Tree"
   ]
  },
  {
   "cell_type": "code",
   "execution_count": 1408,
   "metadata": {
    "ExecuteTime": {
     "end_time": "2020-07-07T17:30:19.538417Z",
     "start_time": "2020-07-07T17:30:19.489542Z"
    }
   },
   "outputs": [
    {
     "data": {
      "text/plain": [
       "DecisionTreeClassifier(ccp_alpha=0.0, class_weight=None, criterion='gini',\n",
       "                       max_depth=10, max_features=None, max_leaf_nodes=None,\n",
       "                       min_impurity_decrease=0.0, min_impurity_split=None,\n",
       "                       min_samples_leaf=1, min_samples_split=2,\n",
       "                       min_weight_fraction_leaf=0.0, presort='deprecated',\n",
       "                       random_state=13261058, splitter='best')"
      ]
     },
     "execution_count": 1408,
     "metadata": {},
     "output_type": "execute_result"
    }
   ],
   "source": [
    "DT = DecisionTreeClassifier(max_depth=10,random_state=13261058)\n",
    "DT.fit(X_train_encoded,y_train)"
   ]
  },
  {
   "cell_type": "code",
   "execution_count": 1409,
   "metadata": {
    "ExecuteTime": {
     "end_time": "2020-07-07T17:30:19.596256Z",
     "start_time": "2020-07-07T17:30:19.542402Z"
    }
   },
   "outputs": [],
   "source": [
    "DT_precision = precision_score(y_train,DT.predict(X_train_encoded))\n",
    "DT_recall = recall_score(y_train,DT.predict(X_train_encoded))\n",
    "DT_accuracy = accuracy_score(y_train,DT.predict(X_train_encoded))\n",
    "DT_f1 = f1_score(y_train,DT.predict(X_train_encoded))\n",
    "DT_AUC = roc_auc_score(y_train,DT.predict_proba(X_train_encoded)[:,-1])"
   ]
  },
  {
   "cell_type": "code",
   "execution_count": 1410,
   "metadata": {
    "ExecuteTime": {
     "end_time": "2020-07-07T17:30:19.607227Z",
     "start_time": "2020-07-07T17:30:19.597253Z"
    }
   },
   "outputs": [],
   "source": [
    "Summary = Summary.append({\"model\":\"Decision Tree\", 'train-test' : 'train','accuracy':DT_accuracy,'AUC':DT_AUC,'precision':DT_precision,'recall':DT_recall,'f1':DT_f1}, ignore_index=  True)"
   ]
  },
  {
   "cell_type": "markdown",
   "metadata": {},
   "source": [
    "### validation Data"
   ]
  },
  {
   "cell_type": "code",
   "execution_count": 1411,
   "metadata": {
    "ExecuteTime": {
     "end_time": "2020-07-07T17:30:19.638144Z",
     "start_time": "2020-07-07T17:30:19.608224Z"
    }
   },
   "outputs": [],
   "source": [
    "DT_precision_val = precision_score(y_val,DT.predict(X_val_encoded))\n",
    "DT_recall_val = recall_score(y_val,DT.predict(X_val_encoded))\n",
    "DT_accuracy_val = accuracy_score(y_val,DT.predict(X_val_encoded))\n",
    "DT_f1_val = f1_score(y_val,DT.predict(X_val_encoded))\n",
    "DT_AUC_val = roc_auc_score(y_val,DT.predict_proba(X_val_encoded)[:,-1])"
   ]
  },
  {
   "cell_type": "code",
   "execution_count": 1412,
   "metadata": {
    "ExecuteTime": {
     "end_time": "2020-07-07T17:30:19.648118Z",
     "start_time": "2020-07-07T17:30:19.639148Z"
    }
   },
   "outputs": [],
   "source": [
    "Summary = Summary.append({\"model\":\"Decision Tree\", 'train-test' : 'val','accuracy':DT_accuracy_val,'AUC':DT_AUC_val,'precision':DT_precision_val,'recall':DT_recall_val,'f1':DT_f1_val}, ignore_index=  True)"
   ]
  },
  {
   "cell_type": "markdown",
   "metadata": {},
   "source": [
    "# Ada Boost"
   ]
  },
  {
   "cell_type": "code",
   "execution_count": 1413,
   "metadata": {
    "ExecuteTime": {
     "end_time": "2020-07-07T17:30:19.658091Z",
     "start_time": "2020-07-07T17:30:19.649115Z"
    }
   },
   "outputs": [],
   "source": [
    "ada = AdaBoostClassifier(n_estimators= 50,learning_rate = 0.1, random_state = 24)"
   ]
  },
  {
   "cell_type": "code",
   "execution_count": 1414,
   "metadata": {
    "ExecuteTime": {
     "end_time": "2020-07-07T17:30:20.165733Z",
     "start_time": "2020-07-07T17:30:19.659088Z"
    }
   },
   "outputs": [
    {
     "data": {
      "text/plain": [
       "AdaBoostClassifier(algorithm='SAMME.R', base_estimator=None, learning_rate=0.1,\n",
       "                   n_estimators=50, random_state=24)"
      ]
     },
     "execution_count": 1414,
     "metadata": {},
     "output_type": "execute_result"
    }
   ],
   "source": [
    "ada.fit(X_train_encoded,y_train)"
   ]
  },
  {
   "cell_type": "code",
   "execution_count": 1415,
   "metadata": {
    "ExecuteTime": {
     "end_time": "2020-07-07T17:30:20.923790Z",
     "start_time": "2020-07-07T17:30:20.166731Z"
    }
   },
   "outputs": [],
   "source": [
    "Ada_precision = precision_score(y_train,ada.predict(X_train_encoded))\n",
    "Ada_recall = recall_score(y_train,ada.predict(X_train_encoded))\n",
    "Ada_accuracy = accuracy_score(y_train,ada.predict(X_train_encoded))\n",
    "Ada_f1 = f1_score(y_train,ada.predict(X_train_encoded))\n",
    "Ada_AUC = roc_auc_score(y_train,ada.predict_proba(X_train_encoded)[:,-1])"
   ]
  },
  {
   "cell_type": "code",
   "execution_count": 1416,
   "metadata": {
    "ExecuteTime": {
     "end_time": "2020-07-07T17:30:20.930771Z",
     "start_time": "2020-07-07T17:30:20.924766Z"
    }
   },
   "outputs": [],
   "source": [
    "Summary = Summary.append({\"model\":\"Ada Boosting\", 'train-test' : 'train','accuracy':Ada_accuracy,'AUC':Ada_AUC,'precision':Ada_precision,'recall':Ada_recall,'f1':Ada_f1}, ignore_index=  True)"
   ]
  },
  {
   "cell_type": "markdown",
   "metadata": {},
   "source": [
    "## Validation Data"
   ]
  },
  {
   "cell_type": "code",
   "execution_count": 1417,
   "metadata": {
    "ExecuteTime": {
     "end_time": "2020-07-07T17:30:21.229032Z",
     "start_time": "2020-07-07T17:30:20.931739Z"
    }
   },
   "outputs": [],
   "source": [
    "Ada_precision_val = precision_score(y_val,ada.predict(X_val_encoded))\n",
    "Ada_recall_val = recall_score(y_val,ada.predict(X_val_encoded))\n",
    "Ada_accuracy_val = accuracy_score(y_val,ada.predict(X_val_encoded))\n",
    "Ada_f1_val = f1_score(y_val,ada.predict(X_val_encoded))\n",
    "Ada_AUC_val = roc_auc_score(y_val,ada.predict_proba(X_val_encoded)[:,-1])"
   ]
  },
  {
   "cell_type": "code",
   "execution_count": 1418,
   "metadata": {
    "ExecuteTime": {
     "end_time": "2020-07-07T17:30:21.237975Z",
     "start_time": "2020-07-07T17:30:21.229995Z"
    }
   },
   "outputs": [],
   "source": [
    "Summary = Summary.append({\"model\":\"Ada Boosting\", 'train-test' : 'val','accuracy':Ada_accuracy_val,'AUC':Ada_AUC_val,'precision':Ada_precision_val,'recall':Ada_recall_val,'f1':Ada_f1_val}, ignore_index=  True)"
   ]
  },
  {
   "cell_type": "markdown",
   "metadata": {},
   "source": [
    "# Random Forest"
   ]
  },
  {
   "cell_type": "code",
   "execution_count": 1419,
   "metadata": {
    "ExecuteTime": {
     "end_time": "2020-07-07T17:30:22.113686Z",
     "start_time": "2020-07-07T17:30:21.239969Z"
    }
   },
   "outputs": [
    {
     "data": {
      "text/plain": [
       "RandomForestClassifier(bootstrap=True, ccp_alpha=0.0, class_weight=None,\n",
       "                       criterion='gini', max_depth=10, max_features='auto',\n",
       "                       max_leaf_nodes=None, max_samples=None,\n",
       "                       min_impurity_decrease=0.0, min_impurity_split=None,\n",
       "                       min_samples_leaf=1, min_samples_split=2,\n",
       "                       min_weight_fraction_leaf=0.0, n_estimators=100,\n",
       "                       n_jobs=None, oob_score=False, random_state=None,\n",
       "                       verbose=0, warm_start=False)"
      ]
     },
     "execution_count": 1419,
     "metadata": {},
     "output_type": "execute_result"
    }
   ],
   "source": [
    "RF = RandomForestClassifier(n_estimators = 100, max_depth = 10)\n",
    "RF.fit(X_train_encoded,y_train)"
   ]
  },
  {
   "cell_type": "code",
   "execution_count": 1420,
   "metadata": {
    "ExecuteTime": {
     "end_time": "2020-07-07T17:30:23.290057Z",
     "start_time": "2020-07-07T17:30:22.114648Z"
    }
   },
   "outputs": [],
   "source": [
    "RF_precision = precision_score(y_train,RF.predict(X_train_encoded))\n",
    "RF_recall = recall_score(y_train,RF.predict(X_train_encoded))\n",
    "RF_accuracy = accuracy_score(y_train,RF.predict(X_train_encoded))\n",
    "RF_f1 = f1_score(y_train,RF.predict(X_train_encoded))\n",
    "RF_AUC = roc_auc_score(y_train,RF.predict_proba(X_train_encoded)[:,-1])"
   ]
  },
  {
   "cell_type": "code",
   "execution_count": 1421,
   "metadata": {
    "ExecuteTime": {
     "end_time": "2020-07-07T17:30:23.305014Z",
     "start_time": "2020-07-07T17:30:23.293017Z"
    }
   },
   "outputs": [],
   "source": [
    "Summary = Summary.append({\"model\":\"Random Forest\", 'train-test' : 'train','accuracy':RF_accuracy,'AUC':RF_AUC,'precision':RF_precision,'recall':RF_recall,'f1':RF_f1}, ignore_index=  True)"
   ]
  },
  {
   "cell_type": "markdown",
   "metadata": {},
   "source": [
    "### Validation Data"
   ]
  },
  {
   "cell_type": "code",
   "execution_count": 1422,
   "metadata": {
    "ExecuteTime": {
     "end_time": "2020-07-07T17:30:23.900335Z",
     "start_time": "2020-07-07T17:30:23.305979Z"
    }
   },
   "outputs": [],
   "source": [
    "RF_precision_val = precision_score(y_val,RF.predict(X_val_encoded))\n",
    "RF_recall_val = recall_score(y_val,RF.predict(X_val_encoded))\n",
    "RF_accuracy_val = accuracy_score(y_val,RF.predict(X_val_encoded))\n",
    "RF_f1_val = f1_score(y_val,RF.predict(X_val_encoded))\n",
    "RF_AUC_val = roc_auc_score(y_val,RF.predict_proba(X_val_encoded)[:,-1])"
   ]
  },
  {
   "cell_type": "code",
   "execution_count": 1423,
   "metadata": {
    "ExecuteTime": {
     "end_time": "2020-07-07T17:30:23.909061Z",
     "start_time": "2020-07-07T17:30:23.902079Z"
    }
   },
   "outputs": [],
   "source": [
    "Summary = Summary.append({\"model\":\"Random Forest\", 'train-test' : 'val','accuracy':RF_accuracy_val,'AUC':RF_AUC_val,'precision':RF_precision_val,'recall':RF_recall_val,'f1':RF_f1_val}, ignore_index=  True)"
   ]
  },
  {
   "cell_type": "markdown",
   "metadata": {},
   "source": [
    "# XGBOOST"
   ]
  },
  {
   "cell_type": "code",
   "execution_count": 1424,
   "metadata": {
    "ExecuteTime": {
     "end_time": "2020-07-07T17:30:24.555332Z",
     "start_time": "2020-07-07T17:30:23.911054Z"
    }
   },
   "outputs": [
    {
     "data": {
      "text/plain": [
       "XGBClassifier(base_score=0.5, booster='gbtree', colsample_bylevel=1,\n",
       "              colsample_bynode=1, colsample_bytree=1, gamma=0, gpu_id=-1,\n",
       "              importance_type='gain', interaction_constraints='',\n",
       "              learning_rate=0.1, max_delta_step=0, max_depth=5,\n",
       "              min_child_weight=1, missing=nan, monotone_constraints='()',\n",
       "              n_estimators=100, n_jobs=0, num_parallel_tree=1,\n",
       "              objective='binary:logistic', random_state=0, reg_alpha=0,\n",
       "              reg_lambda=1, scale_pos_weight=1, subsample=1,\n",
       "              tree_method='exact', validate_parameters=1, verbosity=None)"
      ]
     },
     "execution_count": 1424,
     "metadata": {},
     "output_type": "execute_result"
    }
   ],
   "source": [
    "xgb = XGBClassifier(max_depth = 5, learning_rate=0.1)\n",
    "xgb.fit(X_train_encoded,y_train)"
   ]
  },
  {
   "cell_type": "code",
   "execution_count": 1425,
   "metadata": {
    "ExecuteTime": {
     "end_time": "2020-07-07T17:30:24.809694Z",
     "start_time": "2020-07-07T17:30:24.557327Z"
    }
   },
   "outputs": [],
   "source": [
    "XGB_precision = precision_score(y_train,xgb.predict(X_train_encoded))\n",
    "XGB_recall = recall_score(y_train,xgb.predict(X_train_encoded))\n",
    "XGB_accuracy = accuracy_score(y_train,xgb.predict(X_train_encoded))\n",
    "XGB_f1 = f1_score(y_train,xgb.predict(X_train_encoded))\n",
    "XGB_AUC = roc_auc_score(y_train,xgb.predict_proba(X_train_encoded)[:,-1])"
   ]
  },
  {
   "cell_type": "code",
   "execution_count": 1426,
   "metadata": {
    "ExecuteTime": {
     "end_time": "2020-07-07T17:30:24.822659Z",
     "start_time": "2020-07-07T17:30:24.811689Z"
    }
   },
   "outputs": [],
   "source": [
    "Summary = Summary.append({\"model\":\"XGBoost\", 'train-test' : 'train','accuracy':XGB_accuracy,'AUC':XGB_AUC,'precision':XGB_precision,'recall':XGB_recall,'f1':XGB_f1}, ignore_index=  True)"
   ]
  },
  {
   "cell_type": "markdown",
   "metadata": {},
   "source": [
    "## Validation Data"
   ]
  },
  {
   "cell_type": "code",
   "execution_count": 1427,
   "metadata": {
    "ExecuteTime": {
     "end_time": "2020-07-07T17:30:24.965277Z",
     "start_time": "2020-07-07T17:30:24.824654Z"
    }
   },
   "outputs": [],
   "source": [
    "XGB_precision_val = precision_score(y_val,xgb.predict(X_val_encoded))\n",
    "XGB_recall_val = recall_score(y_val,xgb.predict(X_val_encoded))\n",
    "XGB_accuracy_val = accuracy_score(y_val,xgb.predict(X_val_encoded))\n",
    "XGB_f1_val = f1_score(y_val,xgb.predict(X_val_encoded))\n",
    "XGB_AUC_val = roc_auc_score(y_val,xgb.predict_proba(X_val_encoded)[:,-1])"
   ]
  },
  {
   "cell_type": "code",
   "execution_count": 1428,
   "metadata": {
    "ExecuteTime": {
     "end_time": "2020-07-07T17:30:24.976248Z",
     "start_time": "2020-07-07T17:30:24.967272Z"
    }
   },
   "outputs": [],
   "source": [
    "Summary = Summary.append({\"model\":\"XGBoost\", 'train-test' : 'val','accuracy':XGB_accuracy_val,'AUC':XGB_AUC_val,'precision':XGB_precision_val,'recall':XGB_recall_val,'f1':XGB_f1_val}, ignore_index=  True)"
   ]
  },
  {
   "cell_type": "markdown",
   "metadata": {
    "ExecuteTime": {
     "end_time": "2020-07-07T03:15:10.004854Z",
     "start_time": "2020-07-07T03:15:09.984108Z"
    }
   },
   "source": [
    "# SVM"
   ]
  },
  {
   "cell_type": "code",
   "execution_count": 1429,
   "metadata": {
    "ExecuteTime": {
     "end_time": "2020-07-07T17:30:24.986222Z",
     "start_time": "2020-07-07T17:30:24.978243Z"
    }
   },
   "outputs": [],
   "source": [
    "svm = SVC(kernel = \"rbf\", C = 1, gamma = \"auto\")"
   ]
  },
  {
   "cell_type": "code",
   "execution_count": 1430,
   "metadata": {
    "ExecuteTime": {
     "end_time": "2020-07-07T17:30:33.450791Z",
     "start_time": "2020-07-07T17:30:24.988217Z"
    }
   },
   "outputs": [
    {
     "data": {
      "text/plain": [
       "SVC(C=1, break_ties=False, cache_size=200, class_weight=None, coef0=0.0,\n",
       "    decision_function_shape='ovr', degree=3, gamma='auto', kernel='rbf',\n",
       "    max_iter=-1, probability=False, random_state=None, shrinking=True,\n",
       "    tol=0.001, verbose=False)"
      ]
     },
     "execution_count": 1430,
     "metadata": {},
     "output_type": "execute_result"
    }
   ],
   "source": [
    "svm.fit(X_train_encoded,y_train)"
   ]
  },
  {
   "cell_type": "code",
   "execution_count": 1431,
   "metadata": {
    "ExecuteTime": {
     "end_time": "2020-07-07T17:30:51.311639Z",
     "start_time": "2020-07-07T17:30:33.451749Z"
    }
   },
   "outputs": [],
   "source": [
    "svm_precision = precision_score(y_train,svm.predict(X_train_encoded))\n",
    "svm_recall = recall_score(y_train,svm.predict(X_train_encoded))\n",
    "svm_accuracy = accuracy_score(y_train,svm.predict(X_train_encoded))\n",
    "svm_f1 = f1_score(y_train,svm.predict(X_train_encoded))\n",
    "#svm_AUC = roc_auc_score(y_train,svm.predict_proba(X_train_encoded)[:,-1])"
   ]
  },
  {
   "cell_type": "code",
   "execution_count": 1432,
   "metadata": {
    "ExecuteTime": {
     "end_time": "2020-07-07T17:30:51.324381Z",
     "start_time": "2020-07-07T17:30:51.313410Z"
    }
   },
   "outputs": [],
   "source": [
    "Summary = Summary.append({\"model\":\"SVM\", 'train-test' : 'train','accuracy':svm_accuracy,'AUC': 0 ,'precision':svm_precision,'recall':svm_recall,'f1':svm_f1}, ignore_index=  True)"
   ]
  },
  {
   "cell_type": "markdown",
   "metadata": {
    "ExecuteTime": {
     "end_time": "2020-07-07T04:14:47.549694Z",
     "start_time": "2020-07-07T04:14:47.531107Z"
    }
   },
   "source": [
    "## Validation Data"
   ]
  },
  {
   "cell_type": "code",
   "execution_count": 1433,
   "metadata": {
    "ExecuteTime": {
     "end_time": "2020-07-07T17:30:58.915309Z",
     "start_time": "2020-07-07T17:30:51.325390Z"
    }
   },
   "outputs": [],
   "source": [
    "svm_precision_val = precision_score(y_val,svm.predict(X_val_encoded))\n",
    "svm_recall_val = recall_score(y_val,svm.predict(X_val_encoded))\n",
    "svm_accuracy_val = accuracy_score(y_val,svm.predict(X_val_encoded))\n",
    "svm_f1_val = f1_score(y_val,svm.predict(X_val_encoded))\n",
    "#svm_AUC = roc_auc_score(y_train,svm.predict_proba(X_train_encoded)["
   ]
  },
  {
   "cell_type": "code",
   "execution_count": 1434,
   "metadata": {
    "ExecuteTime": {
     "end_time": "2020-07-07T17:30:58.924254Z",
     "start_time": "2020-07-07T17:30:58.916240Z"
    }
   },
   "outputs": [],
   "source": [
    "Summary = Summary.append({\"model\":\"SVM\", 'train-test' : 'val','accuracy':svm_accuracy_val,'AUC': 0 ,'precision':svm_precision_val,'recall':svm_recall_val,'f1':svm_f1_val}, ignore_index=  True)"
   ]
  },
  {
   "cell_type": "markdown",
   "metadata": {},
   "source": [
    "# PCA"
   ]
  },
  {
   "cell_type": "markdown",
   "metadata": {},
   "source": [
    "## Standardizing the data"
   ]
  },
  {
   "cell_type": "code",
   "execution_count": 1458,
   "metadata": {
    "ExecuteTime": {
     "end_time": "2020-07-07T19:47:51.943345Z",
     "start_time": "2020-07-07T19:47:51.908744Z"
    }
   },
   "outputs": [],
   "source": [
    "std_scale = StandardScaler().fit(X_train_encoded)\n",
    "X_scaled = std_scale.transform(X_train_encoded)\n",
    "y = y_train"
   ]
  },
  {
   "cell_type": "code",
   "execution_count": 1461,
   "metadata": {
    "ExecuteTime": {
     "end_time": "2020-07-07T19:53:04.601628Z",
     "start_time": "2020-07-07T19:53:04.416644Z"
    }
   },
   "outputs": [],
   "source": [
    "pca = PCA(n_components=2)\n",
    "PrincipalComponents = pca.fit_transform(X_scaled)"
   ]
  },
  {
   "cell_type": "code",
   "execution_count": 1464,
   "metadata": {
    "ExecuteTime": {
     "end_time": "2020-07-07T19:54:02.401257Z",
     "start_time": "2020-07-07T19:54:02.393543Z"
    }
   },
   "outputs": [],
   "source": [
    "PC_DF = pd.DataFrame(data = PrincipalComponents\n",
    "             , columns = ['principal component 1', 'principal component 2'])"
   ]
  },
  {
   "cell_type": "code",
   "execution_count": 1490,
   "metadata": {
    "ExecuteTime": {
     "end_time": "2020-07-07T20:16:40.707097Z",
     "start_time": "2020-07-07T20:16:39.707367Z"
    }
   },
   "outputs": [],
   "source": [
    "index = []\n",
    "Variance_explained = []\n",
    "for i in range(14):\n",
    "    pca = PCA(n_components=i)\n",
    "    PrincipalComponents = pca.fit_transform(X_scaled)\n",
    "    index.append(i)\n",
    "    Variance_explained.append(np.sum(pca.explained_variance_ratio_))"
   ]
  },
  {
   "cell_type": "code",
   "execution_count": 1491,
   "metadata": {
    "ExecuteTime": {
     "end_time": "2020-07-07T20:17:24.782284Z",
     "start_time": "2020-07-07T20:17:24.773439Z"
    }
   },
   "outputs": [],
   "source": [
    "variance_df = pd.DataFrame({'components':index,'Variance':Variance_explained})"
   ]
  },
  {
   "cell_type": "code",
   "execution_count": 1496,
   "metadata": {
    "ExecuteTime": {
     "end_time": "2020-07-07T20:22:41.420660Z",
     "start_time": "2020-07-07T20:22:41.211899Z"
    }
   },
   "outputs": [
    {
     "data": {
      "image/png": "[encoded data removed]",
      "text/plain": [
       "<Figure size 432x288 with 1 Axes>"
      ]
     },
     "metadata": {
      "needs_background": "light"
     },
     "output_type": "display_data"
    }
   ],
   "source": [
    "sns.lineplot(x='components',y = 'Variance',data=variance_df);\n",
    "plt.xlabel('# of components');\n",
    "plt.ylabel('Total_variance_explained');"
   ]
  },
  {
   "cell_type": "code",
   "execution_count": 1499,
   "metadata": {
    "ExecuteTime": {
     "end_time": "2020-07-07T20:28:23.738919Z",
     "start_time": "2020-07-07T20:28:23.660254Z"
    }
   },
   "outputs": [],
   "source": [
    "pca = PCA(n_components=10)\n",
    "PrincipalComponents = pca.fit_transform(X_scaled)\n",
    "PC_DF = pd.DataFrame(data=PrincipalComponents,columns=['pc1','pc2','pc3','pc4','pc5','pc6','pc7','pc8',\n",
    "                                                      'pc9','pc10'])"
   ]
  },
  {
   "cell_type": "code",
   "execution_count": 1500,
   "metadata": {
    "ExecuteTime": {
     "end_time": "2020-07-07T20:28:47.493932Z",
     "start_time": "2020-07-07T20:28:47.433410Z"
    }
   },
   "outputs": [
    {
     "data": {
      "text/plain": [
       "LogisticRegression(C=1.0, class_weight=None, dual=False, fit_intercept=True,\n",
       "                   intercept_scaling=1, l1_ratio=None, max_iter=100,\n",
       "                   multi_class='auto', n_jobs=None, penalty='l2',\n",
       "                   random_state=None, solver='lbfgs', tol=0.0001, verbose=0,\n",
       "                   warm_start=False)"
      ]
     },
     "execution_count": 1500,
     "metadata": {},
     "output_type": "execute_result"
    }
   ],
   "source": [
    "LR.fit(PC_DF,y_train)"
   ]
  },
  {
   "cell_type": "code",
   "execution_count": 1501,
   "metadata": {
    "ExecuteTime": {
     "end_time": "2020-07-07T20:30:01.557454Z",
     "start_time": "2020-07-07T20:30:01.498823Z"
    }
   },
   "outputs": [],
   "source": [
    "std_scale_val = StandardScaler().fit(X_val_encoded)\n",
    "X_scaled_val = std_scale_val.transform(X_val_encoded)\n",
    "PrincipalComponents_val = pca.fit_transform(X_scaled_val)"
   ]
  },
  {
   "cell_type": "code",
   "execution_count": 1502,
   "metadata": {
    "ExecuteTime": {
     "end_time": "2020-07-07T20:30:20.025051Z",
     "start_time": "2020-07-07T20:30:20.012404Z"
    }
   },
   "outputs": [],
   "source": [
    "PC_DF_val = pd.DataFrame(data=PrincipalComponents_val,columns=['pc1','pc2','pc3','pc4','pc5','pc6','pc7','pc8',\n",
    "                                                      'pc9','pc10'])"
   ]
  },
  {
   "cell_type": "code",
   "execution_count": 1613,
   "metadata": {
    "ExecuteTime": {
     "end_time": "2020-07-08T16:27:25.369011Z",
     "start_time": "2020-07-08T16:27:25.333795Z"
    }
   },
   "outputs": [
    {
     "data": {
      "text/plain": [
       "LogisticRegression(C=1.0, class_weight=None, dual=False, fit_intercept=True,\n",
       "                   intercept_scaling=1, l1_ratio=None, max_iter=100,\n",
       "                   multi_class='auto', n_jobs=None, penalty='l2',\n",
       "                   random_state=None, solver='lbfgs', tol=0.0001, verbose=0,\n",
       "                   warm_start=False)"
      ]
     },
     "execution_count": 1613,
     "metadata": {},
     "output_type": "execute_result"
    }
   ],
   "source": [
    "LR.fit(PC_DF,y_train)"
   ]
  },
  {
   "cell_type": "code",
   "execution_count": 1617,
   "metadata": {
    "ExecuteTime": {
     "end_time": "2020-07-08T16:29:45.327750Z",
     "start_time": "2020-07-08T16:29:45.320757Z"
    }
   },
   "outputs": [],
   "source": [
    "pd.DataFrame({'components':PC_DF.columns, 'coeff' :LR.coef_[0],'odds_ratio':np.exp(LR.coef_[0])}).to_csv(\"C:/Personal/UC BANA Flex 5/Capstone/Report/PC_LR.csv\")"
   ]
  },
  {
   "cell_type": "markdown",
   "metadata": {},
   "source": [
    "Since XGBoost performance is better compared to all other models. We can fit XGBoost to the principal components and see if it improves the performance."
   ]
  },
  {
   "cell_type": "code",
   "execution_count": 1604,
   "metadata": {
    "ExecuteTime": {
     "end_time": "2020-07-08T16:10:50.203216Z",
     "start_time": "2020-07-08T16:10:49.096672Z"
    }
   },
   "outputs": [],
   "source": [
    "xgb.fit(PC_DF,y_train)\n",
    "XGB_precision_prin = precision_score(y_train,xgb.predict(PC_DF))\n",
    "XGB_recall_prin = recall_score(y_train,xgb.predict(PC_DF))\n",
    "XGB_accuracy_prin = accuracy_score(y_train,xgb.predict(PC_DF))\n",
    "XGB_f1_prin = f1_score(y_train,xgb.predict(PC_DF))\n",
    "XGB_AUC_prin = roc_auc_score(y_train,xgb.predict_proba(PC_DF)[:,-1])"
   ]
  },
  {
   "cell_type": "code",
   "execution_count": 1605,
   "metadata": {
    "ExecuteTime": {
     "end_time": "2020-07-08T16:12:19.196208Z",
     "start_time": "2020-07-08T16:12:19.189195Z"
    }
   },
   "outputs": [],
   "source": [
    "Summary = Summary.append({\"model\":\"XGBoost and PCA\", 'train-test' : 'train','accuracy':XGB_accuracy_prin,'AUC': XGB_AUC_prin ,'precision':XGB_precision_prin,'recall':XGB_recall_prin,'f1':XGB_f1_prin}, ignore_index=  True)"
   ]
  },
  {
   "cell_type": "code",
   "execution_count": 1607,
   "metadata": {
    "ExecuteTime": {
     "end_time": "2020-07-08T16:13:53.589955Z",
     "start_time": "2020-07-08T16:13:52.546230Z"
    }
   },
   "outputs": [],
   "source": [
    "xgb.fit(PC_DF,y_train)\n",
    "XGB_precision_prin_val = precision_score(y_val,xgb.predict(PC_DF_val))\n",
    "XGB_recall_prin_val = recall_score(y_val,xgb.predict(PC_DF_val))\n",
    "XGB_accuracy_prin_val = accuracy_score(y_val,xgb.predict(PC_DF_val))\n",
    "XGB_f1_prin_val = f1_score(y_val,xgb.predict(PC_DF_val))\n",
    "XGB_AUC_prin_val = roc_auc_score(y_val,xgb.predict_proba(PC_DF_val)[:,-1])"
   ]
  },
  {
   "cell_type": "code",
   "execution_count": 1609,
   "metadata": {
    "ExecuteTime": {
     "end_time": "2020-07-08T16:14:48.940621Z",
     "start_time": "2020-07-08T16:14:48.932642Z"
    }
   },
   "outputs": [],
   "source": [
    "Summary = Summary.append({\"model\":\"XGBoost and PCA\", 'train-test' : 'val','accuracy':XGB_accuracy_prin_val,'AUC': XGB_AUC_prin_val ,'precision':XGB_precision_prin_val,'recall':XGB_recall_prin_val,'f1':XGB_f1_prin_val}, ignore_index=  True)"
   ]
  },
  {
   "cell_type": "code",
   "execution_count": 1610,
   "metadata": {
    "ExecuteTime": {
     "end_time": "2020-07-08T16:14:53.877157Z",
     "start_time": "2020-07-08T16:14:53.862115Z"
    }
   },
   "outputs": [
    {
     "data": {
      "text/html": [
       "<div>\n",
       "<style scoped>\n",
       "    .dataframe tbody tr th:only-of-type {\n",
       "        vertical-align: middle;\n",
       "    }\n",
       "\n",
       "    .dataframe tbody tr th {\n",
       "        vertical-align: top;\n",
       "    }\n",
       "\n",
       "    .dataframe thead th {\n",
       "        text-align: right;\n",
       "    }\n",
       "</style>\n",
       "<table border=\"1\" class=\"dataframe\">\n",
       "  <thead>\n",
       "    <tr style=\"text-align: right;\">\n",
       "      <th></th>\n",
       "      <th>model</th>\n",
       "      <th>train-test</th>\n",
       "      <th>accuracy</th>\n",
       "      <th>AUC</th>\n",
       "      <th>precision</th>\n",
       "      <th>recall</th>\n",
       "      <th>f1</th>\n",
       "    </tr>\n",
       "  </thead>\n",
       "  <tbody>\n",
       "    <tr>\n",
       "      <th>0</th>\n",
       "      <td>Logistic Regression- All variables</td>\n",
       "      <td>train</td>\n",
       "      <td>0.831540</td>\n",
       "      <td>0.884941</td>\n",
       "      <td>0.703695</td>\n",
       "      <td>0.558454</td>\n",
       "      <td>0.622718</td>\n",
       "    </tr>\n",
       "    <tr>\n",
       "      <th>1</th>\n",
       "      <td>Logistic Regression- All variables</td>\n",
       "      <td>val</td>\n",
       "      <td>0.829131</td>\n",
       "      <td>0.888617</td>\n",
       "      <td>0.697054</td>\n",
       "      <td>0.556344</td>\n",
       "      <td>0.618801</td>\n",
       "    </tr>\n",
       "    <tr>\n",
       "      <th>2</th>\n",
       "      <td>Logistic Regression- BIC Variables</td>\n",
       "      <td>train</td>\n",
       "      <td>0.831587</td>\n",
       "      <td>0.884592</td>\n",
       "      <td>0.706741</td>\n",
       "      <td>0.552932</td>\n",
       "      <td>0.620447</td>\n",
       "    </tr>\n",
       "    <tr>\n",
       "      <th>3</th>\n",
       "      <td>Logistic Regression- BIC Variables</td>\n",
       "      <td>val</td>\n",
       "      <td>0.828688</td>\n",
       "      <td>0.887494</td>\n",
       "      <td>0.699717</td>\n",
       "      <td>0.547915</td>\n",
       "      <td>0.614581</td>\n",
       "    </tr>\n",
       "    <tr>\n",
       "      <th>4</th>\n",
       "      <td>Decision Tree</td>\n",
       "      <td>train</td>\n",
       "      <td>0.856994</td>\n",
       "      <td>0.922205</td>\n",
       "      <td>0.754730</td>\n",
       "      <td>0.630427</td>\n",
       "      <td>0.687001</td>\n",
       "    </tr>\n",
       "    <tr>\n",
       "      <th>5</th>\n",
       "      <td>Decision Tree</td>\n",
       "      <td>val</td>\n",
       "      <td>0.824818</td>\n",
       "      <td>0.862790</td>\n",
       "      <td>0.674661</td>\n",
       "      <td>0.574091</td>\n",
       "      <td>0.620326</td>\n",
       "    </tr>\n",
       "    <tr>\n",
       "      <th>6</th>\n",
       "      <td>Ada Boosting</td>\n",
       "      <td>train</td>\n",
       "      <td>0.827558</td>\n",
       "      <td>0.883336</td>\n",
       "      <td>0.753137</td>\n",
       "      <td>0.457159</td>\n",
       "      <td>0.568957</td>\n",
       "    </tr>\n",
       "    <tr>\n",
       "      <th>7</th>\n",
       "      <td>Ada Boosting</td>\n",
       "      <td>val</td>\n",
       "      <td>0.826587</td>\n",
       "      <td>0.882563</td>\n",
       "      <td>0.746055</td>\n",
       "      <td>0.461402</td>\n",
       "      <td>0.570175</td>\n",
       "    </tr>\n",
       "    <tr>\n",
       "      <th>8</th>\n",
       "      <td>Random Forest</td>\n",
       "      <td>train</td>\n",
       "      <td>0.858368</td>\n",
       "      <td>0.924921</td>\n",
       "      <td>0.782859</td>\n",
       "      <td>0.596535</td>\n",
       "      <td>0.677113</td>\n",
       "    </tr>\n",
       "    <tr>\n",
       "      <th>9</th>\n",
       "      <td>Random Forest</td>\n",
       "      <td>val</td>\n",
       "      <td>0.837204</td>\n",
       "      <td>0.895746</td>\n",
       "      <td>0.725751</td>\n",
       "      <td>0.557675</td>\n",
       "      <td>0.630707</td>\n",
       "    </tr>\n",
       "    <tr>\n",
       "      <th>10</th>\n",
       "      <td>XGBoost</td>\n",
       "      <td>train</td>\n",
       "      <td>0.849931</td>\n",
       "      <td>0.912019</td>\n",
       "      <td>0.738455</td>\n",
       "      <td>0.615004</td>\n",
       "      <td>0.671099</td>\n",
       "    </tr>\n",
       "    <tr>\n",
       "      <th>11</th>\n",
       "      <td>XGBoost</td>\n",
       "      <td>val</td>\n",
       "      <td>0.837425</td>\n",
       "      <td>0.896999</td>\n",
       "      <td>0.709178</td>\n",
       "      <td>0.589618</td>\n",
       "      <td>0.643895</td>\n",
       "    </tr>\n",
       "    <tr>\n",
       "      <th>12</th>\n",
       "      <td>SVM</td>\n",
       "      <td>train</td>\n",
       "      <td>0.853060</td>\n",
       "      <td>0.000000</td>\n",
       "      <td>0.772405</td>\n",
       "      <td>0.580922</td>\n",
       "      <td>0.663117</td>\n",
       "    </tr>\n",
       "    <tr>\n",
       "      <th>13</th>\n",
       "      <td>SVM</td>\n",
       "      <td>val</td>\n",
       "      <td>0.828799</td>\n",
       "      <td>0.000000</td>\n",
       "      <td>0.714459</td>\n",
       "      <td>0.521739</td>\n",
       "      <td>0.603077</td>\n",
       "    </tr>\n",
       "    <tr>\n",
       "      <th>14</th>\n",
       "      <td>Logistic Regression- All variables</td>\n",
       "      <td>test</td>\n",
       "      <td>0.716026</td>\n",
       "      <td>0.748345</td>\n",
       "      <td>0.545837</td>\n",
       "      <td>0.288060</td>\n",
       "      <td>0.377106</td>\n",
       "    </tr>\n",
       "    <tr>\n",
       "      <th>15</th>\n",
       "      <td>Logistic Regression- BIC Variables</td>\n",
       "      <td>test</td>\n",
       "      <td>0.711391</td>\n",
       "      <td>0.739565</td>\n",
       "      <td>0.531356</td>\n",
       "      <td>0.278296</td>\n",
       "      <td>0.365278</td>\n",
       "    </tr>\n",
       "    <tr>\n",
       "      <th>16</th>\n",
       "      <td>Ada Boosting</td>\n",
       "      <td>test</td>\n",
       "      <td>0.707682</td>\n",
       "      <td>0.718118</td>\n",
       "      <td>0.526838</td>\n",
       "      <td>0.200399</td>\n",
       "      <td>0.290354</td>\n",
       "    </tr>\n",
       "    <tr>\n",
       "      <th>17</th>\n",
       "      <td>Decision Tree</td>\n",
       "      <td>test</td>\n",
       "      <td>0.697285</td>\n",
       "      <td>0.659839</td>\n",
       "      <td>0.487731</td>\n",
       "      <td>0.286729</td>\n",
       "      <td>0.361146</td>\n",
       "    </tr>\n",
       "    <tr>\n",
       "      <th>18</th>\n",
       "      <td>Random Forest</td>\n",
       "      <td>test</td>\n",
       "      <td>0.708146</td>\n",
       "      <td>0.741369</td>\n",
       "      <td>0.522167</td>\n",
       "      <td>0.258766</td>\n",
       "      <td>0.346045</td>\n",
       "    </tr>\n",
       "    <tr>\n",
       "      <th>19</th>\n",
       "      <td>XGBoost</td>\n",
       "      <td>test</td>\n",
       "      <td>0.709404</td>\n",
       "      <td>0.683471</td>\n",
       "      <td>0.523302</td>\n",
       "      <td>0.294052</td>\n",
       "      <td>0.376527</td>\n",
       "    </tr>\n",
       "    <tr>\n",
       "      <th>20</th>\n",
       "      <td>SVM</td>\n",
       "      <td>test</td>\n",
       "      <td>0.691391</td>\n",
       "      <td>0.000000</td>\n",
       "      <td>0.465899</td>\n",
       "      <td>0.233466</td>\n",
       "      <td>0.311059</td>\n",
       "    </tr>\n",
       "    <tr>\n",
       "      <th>21</th>\n",
       "      <td>XGBoost and PCA</td>\n",
       "      <td>train</td>\n",
       "      <td>0.849742</td>\n",
       "      <td>0.913552</td>\n",
       "      <td>0.757037</td>\n",
       "      <td>0.583778</td>\n",
       "      <td>0.659213</td>\n",
       "    </tr>\n",
       "    <tr>\n",
       "      <th>22</th>\n",
       "      <td>XGBoost and PCA</td>\n",
       "      <td>val</td>\n",
       "      <td>0.820394</td>\n",
       "      <td>0.873112</td>\n",
       "      <td>0.752809</td>\n",
       "      <td>0.416149</td>\n",
       "      <td>0.536000</td>\n",
       "    </tr>\n",
       "  </tbody>\n",
       "</table>\n",
       "</div>"
      ],
      "text/plain": [
       "                                 model train-test  accuracy       AUC  \\\n",
       "0   Logistic Regression- All variables      train  0.831540  0.884941   \n",
       "1   Logistic Regression- All variables        val  0.829131  0.888617   \n",
       "2   Logistic Regression- BIC Variables      train  0.831587  0.884592   \n",
       "3   Logistic Regression- BIC Variables        val  0.828688  0.887494   \n",
       "4                        Decision Tree      train  0.856994  0.922205   \n",
       "5                        Decision Tree        val  0.824818  0.862790   \n",
       "6                         Ada Boosting      train  0.827558  0.883336   \n",
       "7                         Ada Boosting        val  0.826587  0.882563   \n",
       "8                        Random Forest      train  0.858368  0.924921   \n",
       "9                        Random Forest        val  0.837204  0.895746   \n",
       "10                             XGBoost      train  0.849931  0.912019   \n",
       "11                             XGBoost        val  0.837425  0.896999   \n",
       "12                                 SVM      train  0.853060  0.000000   \n",
       "13                                 SVM        val  0.828799  0.000000   \n",
       "14  Logistic Regression- All variables       test  0.716026  0.748345   \n",
       "15  Logistic Regression- BIC Variables       test  0.711391  0.739565   \n",
       "16                        Ada Boosting       test  0.707682  0.718118   \n",
       "17                       Decision Tree       test  0.697285  0.659839   \n",
       "18                       Random Forest       test  0.708146  0.741369   \n",
       "19                             XGBoost       test  0.709404  0.683471   \n",
       "20                                 SVM       test  0.691391  0.000000   \n",
       "21                     XGBoost and PCA      train  0.849742  0.913552   \n",
       "22                     XGBoost and PCA        val  0.820394  0.873112   \n",
       "\n",
       "    precision    recall        f1  \n",
       "0    0.703695  0.558454  0.622718  \n",
       "1    0.697054  0.556344  0.618801  \n",
       "2    0.706741  0.552932  0.620447  \n",
       "3    0.699717  0.547915  0.614581  \n",
       "4    0.754730  0.630427  0.687001  \n",
       "5    0.674661  0.574091  0.620326  \n",
       "6    0.753137  0.457159  0.568957  \n",
       "7    0.746055  0.461402  0.570175  \n",
       "8    0.782859  0.596535  0.677113  \n",
       "9    0.725751  0.557675  0.630707  \n",
       "10   0.738455  0.615004  0.671099  \n",
       "11   0.709178  0.589618  0.643895  \n",
       "12   0.772405  0.580922  0.663117  \n",
       "13   0.714459  0.521739  0.603077  \n",
       "14   0.545837  0.288060  0.377106  \n",
       "15   0.531356  0.278296  0.365278  \n",
       "16   0.526838  0.200399  0.290354  \n",
       "17   0.487731  0.286729  0.361146  \n",
       "18   0.522167  0.258766  0.346045  \n",
       "19   0.523302  0.294052  0.376527  \n",
       "20   0.465899  0.233466  0.311059  \n",
       "21   0.757037  0.583778  0.659213  \n",
       "22   0.752809  0.416149  0.536000  "
      ]
     },
     "execution_count": 1610,
     "metadata": {},
     "output_type": "execute_result"
    }
   ],
   "source": [
    "Summary"
   ]
  },
  {
   "cell_type": "code",
   "execution_count": 1573,
   "metadata": {
    "ExecuteTime": {
     "end_time": "2020-07-08T12:21:07.768109Z",
     "start_time": "2020-07-08T12:21:07.759469Z"
    }
   },
   "outputs": [],
   "source": [
    "classifiers = [LR, \n",
    "               DT,\n",
    "               ada,\n",
    "               RF,\n",
    "               xgb\n",
    "               ]"
   ]
  },
  {
   "cell_type": "code",
   "execution_count": 1574,
   "metadata": {
    "ExecuteTime": {
     "end_time": "2020-07-08T12:21:08.266334Z",
     "start_time": "2020-07-08T12:21:08.254329Z"
    }
   },
   "outputs": [],
   "source": [
    "result_table = pd.DataFrame(columns=['classifiers', 'fpr','tpr','auc'])"
   ]
  },
  {
   "cell_type": "code",
   "execution_count": 1586,
   "metadata": {
    "ExecuteTime": {
     "end_time": "2020-07-08T12:43:13.307376Z",
     "start_time": "2020-07-08T12:43:13.302095Z"
    }
   },
   "outputs": [],
   "source": [
    "result_table_train = pd.DataFrame(columns=['classifiers', 'fpr','tpr','auc'])"
   ]
  },
  {
   "cell_type": "code",
   "execution_count": 1587,
   "metadata": {
    "ExecuteTime": {
     "end_time": "2020-07-08T12:44:14.879618Z",
     "start_time": "2020-07-08T12:44:09.854958Z"
    }
   },
   "outputs": [
    {
     "name": "stderr",
     "output_type": "stream",
     "text": [
      "C:\\Users\\mukka\\AppData\\Local\\Continuum\\anaconda3\\lib\\site-packages\\sklearn\\linear_model\\_logistic.py:940: ConvergenceWarning: lbfgs failed to converge (status=1):\n",
      "STOP: TOTAL NO. of ITERATIONS REACHED LIMIT.\n",
      "\n",
      "Increase the number of iterations (max_iter) or scale the data as shown in:\n",
      "    https://scikit-learn.org/stable/modules/preprocessing.html\n",
      "Please also refer to the documentation for alternative solver options:\n",
      "    https://scikit-learn.org/stable/modules/linear_model.html#logistic-regression\n",
      "  extra_warning_msg=_LOGISTIC_SOLVER_CONVERGENCE_MSG)\n"
     ]
    }
   ],
   "source": [
    "for cls in classifiers:\n",
    "    model = cls.fit(X_train_encoded, y_train)\n",
    "    yproba = model.predict_proba(X_train_encoded)[::,1]\n",
    "    \n",
    "    fpr, tpr, _ = roc_curve(y_train,  yproba)\n",
    "    auc = roc_auc_score(y_train, yproba)\n",
    "    \n",
    "    result_table_train = result_table_train.append({'classifiers':cls.__class__.__name__,\n",
    "                                        'fpr':fpr, \n",
    "                                        'tpr':tpr, \n",
    "                                        'auc':auc}, ignore_index=True)"
   ]
  },
  {
   "cell_type": "code",
   "execution_count": 1589,
   "metadata": {
    "ExecuteTime": {
     "end_time": "2020-07-08T12:45:20.635346Z",
     "start_time": "2020-07-08T12:45:20.627565Z"
    }
   },
   "outputs": [],
   "source": [
    "result_table_train = result_table_train.set_index('classifiers')"
   ]
  },
  {
   "cell_type": "code",
   "execution_count": 1590,
   "metadata": {
    "ExecuteTime": {
     "end_time": "2020-07-08T12:45:21.704815Z",
     "start_time": "2020-07-08T12:45:21.438024Z"
    }
   },
   "outputs": [
    {
     "data": {
      "image/png": "[encoded data removed]",
      "text/plain": [
       "<Figure size 576x432 with 1 Axes>"
      ]
     },
     "metadata": {
      "needs_background": "light"
     },
     "output_type": "display_data"
    }
   ],
   "source": [
    "fig = plt.figure(figsize=(8,6))\n",
    "\n",
    "for i in result_table_train.index:\n",
    "    plt.plot(result_table_train.loc[i]['fpr'], \n",
    "             result_table_train.loc[i]['tpr'], \n",
    "             label=\"{}, AUC={:.3f}\".format(i, result_table_train.loc[i]['auc']))\n",
    "    \n",
    "plt.plot([0,1], [0,1], color='orange', linestyle='--')\n",
    "\n",
    "plt.xticks(np.arange(0.0, 1.1, step=0.1))\n",
    "plt.xlabel(\"Flase Positive Rate\", fontsize=15)\n",
    "\n",
    "plt.yticks(np.arange(0.0, 1.1, step=0.1))\n",
    "plt.ylabel(\"True Positive Rate\", fontsize=15)\n",
    "\n",
    "plt.title('ROC Curve Analysis on Train Data', fontweight='bold', fontsize=15)\n",
    "plt.legend(prop={'size':13}, loc='lower right')\n",
    "\n",
    "plt.show()"
   ]
  },
  {
   "cell_type": "code",
   "execution_count": 1575,
   "metadata": {
    "ExecuteTime": {
     "end_time": "2020-07-08T12:21:14.232569Z",
     "start_time": "2020-07-08T12:21:08.803554Z"
    }
   },
   "outputs": [
    {
     "name": "stderr",
     "output_type": "stream",
     "text": [
      "C:\\Users\\mukka\\AppData\\Local\\Continuum\\anaconda3\\lib\\site-packages\\sklearn\\linear_model\\_logistic.py:940: ConvergenceWarning: lbfgs failed to converge (status=1):\n",
      "STOP: TOTAL NO. of ITERATIONS REACHED LIMIT.\n",
      "\n",
      "Increase the number of iterations (max_iter) or scale the data as shown in:\n",
      "    https://scikit-learn.org/stable/modules/preprocessing.html\n",
      "Please also refer to the documentation for alternative solver options:\n",
      "    https://scikit-learn.org/stable/modules/linear_model.html#logistic-regression\n",
      "  extra_warning_msg=_LOGISTIC_SOLVER_CONVERGENCE_MSG)\n"
     ]
    }
   ],
   "source": [
    "for cls in classifiers:\n",
    "    model = cls.fit(X_train_encoded, y_train)\n",
    "    yproba = model.predict_proba(X_val_encoded)[::,1]\n",
    "    \n",
    "    fpr, tpr, _ = roc_curve(y_val,  yproba)\n",
    "    auc = roc_auc_score(y_val, yproba)\n",
    "    \n",
    "    result_table = result_table.append({'classifiers':cls.__class__.__name__,\n",
    "                                        'fpr':fpr, \n",
    "                                        'tpr':tpr, \n",
    "                                        'auc':auc}, ignore_index=True)"
   ]
  },
  {
   "cell_type": "code",
   "execution_count": 1583,
   "metadata": {
    "ExecuteTime": {
     "end_time": "2020-07-08T12:24:06.579298Z",
     "start_time": "2020-07-08T12:24:06.571558Z"
    }
   },
   "outputs": [],
   "source": [
    "result_table = result_table.set_index('classifiers')"
   ]
  },
  {
   "cell_type": "code",
   "execution_count": 1585,
   "metadata": {
    "ExecuteTime": {
     "end_time": "2020-07-08T12:29:22.275587Z",
     "start_time": "2020-07-08T12:29:21.991963Z"
    }
   },
   "outputs": [
    {
     "data": {
      "image/png": "[encoded data removed]",
      "text/plain": [
       "<Figure size 576x432 with 1 Axes>"
      ]
     },
     "metadata": {
      "needs_background": "light"
     },
     "output_type": "display_data"
    }
   ],
   "source": [
    "fig = plt.figure(figsize=(8,6))\n",
    "\n",
    "for i in result_table.index:\n",
    "    plt.plot(result_table.loc[i]['fpr'], \n",
    "             result_table.loc[i]['tpr'], \n",
    "             label=\"{}, AUC={:.3f}\".format(i, result_table.loc[i]['auc']))\n",
    "    \n",
    "plt.plot([0,1], [0,1], color='orange', linestyle='--')\n",
    "\n",
    "plt.xticks(np.arange(0.0, 1.1, step=0.1))\n",
    "plt.xlabel(\"Flase Positive Rate\", fontsize=15)\n",
    "\n",
    "plt.yticks(np.arange(0.0, 1.1, step=0.1))\n",
    "plt.ylabel(\"True Positive Rate\", fontsize=15)\n",
    "\n",
    "plt.title('ROC Curve Analysis on Test Data', fontweight='bold', fontsize=15)\n",
    "plt.legend(prop={'size':13}, loc='lower right')\n",
    "\n",
    "plt.show()"
   ]
  },
  {
   "cell_type": "markdown",
   "metadata": {},
   "source": [
    "# Encoding Test Data"
   ]
  },
  {
   "cell_type": "code",
   "execution_count": 1435,
   "metadata": {
    "ExecuteTime": {
     "end_time": "2020-07-07T17:30:58.950822Z",
     "start_time": "2020-07-07T17:30:58.927210Z"
    }
   },
   "outputs": [],
   "source": [
    "X_test = Census_test.loc[:,Census.columns !='income']\n",
    "y_test = Census_test['income']"
   ]
  },
  {
   "cell_type": "code",
   "execution_count": 1436,
   "metadata": {
    "ExecuteTime": {
     "end_time": "2020-07-07T17:30:58.974759Z",
     "start_time": "2020-07-07T17:30:58.951781Z"
    }
   },
   "outputs": [],
   "source": [
    "X_test_encoded = pd.get_dummies(columns= ['workclass','marital.status','occupation','race','sex','income_overall'],data=X_test )\n"
   ]
  },
  {
   "cell_type": "markdown",
   "metadata": {},
   "source": [
    "Dropping variables to avoid multicollinearity"
   ]
  },
  {
   "cell_type": "code",
   "execution_count": 1437,
   "metadata": {
    "ExecuteTime": {
     "end_time": "2020-07-07T17:30:58.981703Z",
     "start_time": "2020-07-07T17:30:58.975716Z"
    }
   },
   "outputs": [],
   "source": [
    "X_test_encoded = X_test_encoded.drop(columns = ['workclass_Self-Emp','marital.status_Separated','occupation_Adm-clerical','race_Other','sex_Female','income_overall_Negative'])"
   ]
  },
  {
   "cell_type": "markdown",
   "metadata": {},
   "source": [
    "# Validating Test Data"
   ]
  },
  {
   "cell_type": "markdown",
   "metadata": {},
   "source": [
    "## Logistic Regression- All Variables"
   ]
  },
  {
   "cell_type": "code",
   "execution_count": 1438,
   "metadata": {
    "ExecuteTime": {
     "end_time": "2020-07-07T17:30:59.185156Z",
     "start_time": "2020-07-07T17:30:58.983695Z"
    }
   },
   "outputs": [
    {
     "name": "stderr",
     "output_type": "stream",
     "text": [
      "C:\\Users\\mukka\\AppData\\Local\\Continuum\\anaconda3\\lib\\site-packages\\sklearn\\linear_model\\_logistic.py:940: ConvergenceWarning: lbfgs failed to converge (status=1):\n",
      "STOP: TOTAL NO. of ITERATIONS REACHED LIMIT.\n",
      "\n",
      "Increase the number of iterations (max_iter) or scale the data as shown in:\n",
      "    https://scikit-learn.org/stable/modules/preprocessing.html\n",
      "Please also refer to the documentation for alternative solver options:\n",
      "    https://scikit-learn.org/stable/modules/linear_model.html#logistic-regression\n",
      "  extra_warning_msg=_LOGISTIC_SOLVER_CONVERGENCE_MSG)\n"
     ]
    }
   ],
   "source": [
    "LR.fit(X_train_encoded,y_train)\n",
    "LR_precision_test = precision_score(y_test,LR.predict(X_test_encoded))\n",
    "LR_recall_test = recall_score(y_test,LR.predict(X_test_encoded))\n",
    "LR_accuracy_test = accuracy_score(y_test,LR.predict(X_test_encoded))\n",
    "LR_f1_test = f1_score(y_test,LR.predict(X_test_encoded))\n",
    "LR_AUC_test = roc_auc_score(y_test,LR.predict_proba(X_test_encoded)[:,-1])"
   ]
  },
  {
   "cell_type": "code",
   "execution_count": 1439,
   "metadata": {
    "ExecuteTime": {
     "end_time": "2020-07-07T17:30:59.195130Z",
     "start_time": "2020-07-07T17:30:59.186154Z"
    }
   },
   "outputs": [],
   "source": [
    "Summary = Summary.append({\"model\":\"Logistic Regression- All variables\", 'train-test' : 'test','accuracy':LR_accuracy_test,'AUC':LR_AUC_test,'precision':LR_precision_test,'recall':LR_recall_test,'f1':LR_f1_test}, ignore_index=  True)"
   ]
  },
  {
   "cell_type": "code",
   "execution_count": 1593,
   "metadata": {
    "ExecuteTime": {
     "end_time": "2020-07-08T13:03:20.432811Z",
     "start_time": "2020-07-08T13:03:20.424626Z"
    }
   },
   "outputs": [
    {
     "data": {
      "text/plain": [
       "array([[ 0.02524382,  0.31542307,  0.03030483,  0.02601124, -0.11282808,\n",
       "         0.02392864,  2.00392023, -0.59123303, -0.55933841,  0.2806868 ,\n",
       "        -0.84294696, -0.07404807, -0.33418717,  0.19144015,  0.34149019,\n",
       "         1.61577661]])"
      ]
     },
     "execution_count": 1593,
     "metadata": {},
     "output_type": "execute_result"
    }
   ],
   "source": [
    "LR.coef_"
   ]
  },
  {
   "cell_type": "code",
   "execution_count": 1598,
   "metadata": {
    "ExecuteTime": {
     "end_time": "2020-07-08T13:09:42.424549Z",
     "start_time": "2020-07-08T13:09:42.414494Z"
    }
   },
   "outputs": [],
   "source": [
    "Impact_variables = pd.DataFrame({'feature':X_test_encoded.columns,'coeff':LR.coef_[0]})"
   ]
  },
  {
   "cell_type": "code",
   "execution_count": 1600,
   "metadata": {
    "ExecuteTime": {
     "end_time": "2020-07-08T13:10:25.658281Z",
     "start_time": "2020-07-08T13:10:25.649942Z"
    }
   },
   "outputs": [],
   "source": [
    "Impact_variables['odds_ratio'] = np.exp(Impact_variables['coeff'])"
   ]
  },
  {
   "cell_type": "code",
   "execution_count": 1602,
   "metadata": {
    "ExecuteTime": {
     "end_time": "2020-07-08T13:45:28.597347Z",
     "start_time": "2020-07-08T13:45:28.585607Z"
    }
   },
   "outputs": [],
   "source": [
    "Impact_variables.to_csv(\"C:/Personal/UC BANA Flex 5/Capstone/Report/Impact_variables.csv\")"
   ]
  },
  {
   "cell_type": "markdown",
   "metadata": {},
   "source": [
    "## Logistic Regression - BIC Variables"
   ]
  },
  {
   "cell_type": "code",
   "execution_count": 1440,
   "metadata": {
    "ExecuteTime": {
     "end_time": "2020-07-07T17:30:59.206101Z",
     "start_time": "2020-07-07T17:30:59.196127Z"
    }
   },
   "outputs": [],
   "source": [
    "X_filtered_test = X_test_encoded.drop(columns=['race_White'])"
   ]
  },
  {
   "cell_type": "code",
   "execution_count": 1441,
   "metadata": {
    "ExecuteTime": {
     "end_time": "2020-07-07T17:30:59.433492Z",
     "start_time": "2020-07-07T17:30:59.208105Z"
    }
   },
   "outputs": [
    {
     "name": "stderr",
     "output_type": "stream",
     "text": [
      "C:\\Users\\mukka\\AppData\\Local\\Continuum\\anaconda3\\lib\\site-packages\\sklearn\\linear_model\\_logistic.py:940: ConvergenceWarning: lbfgs failed to converge (status=1):\n",
      "STOP: TOTAL NO. of ITERATIONS REACHED LIMIT.\n",
      "\n",
      "Increase the number of iterations (max_iter) or scale the data as shown in:\n",
      "    https://scikit-learn.org/stable/modules/preprocessing.html\n",
      "Please also refer to the documentation for alternative solver options:\n",
      "    https://scikit-learn.org/stable/modules/linear_model.html#logistic-regression\n",
      "  extra_warning_msg=_LOGISTIC_SOLVER_CONVERGENCE_MSG)\n"
     ]
    }
   ],
   "source": [
    "LR.fit(X_filtered_train,y_train)\n",
    "LR_precision_subset_test = precision_score(y_test,LR.predict(X_filtered_test))\n",
    "LR_recall_subset_test = recall_score(y_test,LR.predict(X_filtered_test))\n",
    "LR_accuracy_subset_test = accuracy_score(y_test,LR.predict(X_filtered_test))\n",
    "LR_f1_subset_test = f1_score(y_test,LR.predict(X_filtered_test))\n",
    "LR_AUC_subset_test = roc_auc_score(y_test,LR.predict_proba(X_filtered_test)[:,-1])"
   ]
  },
  {
   "cell_type": "code",
   "execution_count": 1442,
   "metadata": {
    "ExecuteTime": {
     "end_time": "2020-07-07T17:30:59.441777Z",
     "start_time": "2020-07-07T17:30:59.434489Z"
    }
   },
   "outputs": [],
   "source": [
    "Summary = Summary.append({\"model\":\"Logistic Regression- BIC Variables\", 'train-test' : 'test','accuracy':LR_accuracy_subset_test,'AUC':LR_AUC_subset_test,'precision':LR_precision_subset_test,'recall':LR_recall_subset_test,'f1':LR_f1_subset_test}, ignore_index=  True)"
   ]
  },
  {
   "cell_type": "markdown",
   "metadata": {},
   "source": [
    "## Ada Boost"
   ]
  },
  {
   "cell_type": "code",
   "execution_count": 1443,
   "metadata": {
    "ExecuteTime": {
     "end_time": "2020-07-07T17:30:59.944162Z",
     "start_time": "2020-07-07T17:30:59.443466Z"
    }
   },
   "outputs": [],
   "source": [
    "Ada_precision_test = precision_score(y_test,ada.predict(X_test_encoded))\n",
    "Ada_recall_test = recall_score(y_test,ada.predict(X_test_encoded))\n",
    "Ada_accuracy_test = accuracy_score(y_test,ada.predict(X_test_encoded))\n",
    "Ada_f1_test = f1_score(y_test,ada.predict(X_test_encoded))\n",
    "Ada_AUC_test = roc_auc_score(y_test,ada.predict_proba(X_test_encoded)[:,-1])"
   ]
  },
  {
   "cell_type": "code",
   "execution_count": 1444,
   "metadata": {
    "ExecuteTime": {
     "end_time": "2020-07-07T17:30:59.954102Z",
     "start_time": "2020-07-07T17:30:59.945123Z"
    }
   },
   "outputs": [],
   "source": [
    "Summary = Summary.append({\"model\":\"Ada Boosting\", 'train-test' : 'test','accuracy':Ada_accuracy_test,'AUC':Ada_AUC_test,'precision':Ada_precision_test,'recall':Ada_recall_test,'f1':Ada_f1_test}, ignore_index=  True)"
   ]
  },
  {
   "cell_type": "markdown",
   "metadata": {
    "ExecuteTime": {
     "end_time": "2020-07-07T03:32:41.319371Z",
     "start_time": "2020-07-07T03:32:41.313918Z"
    }
   },
   "source": [
    "## Decision Tree"
   ]
  },
  {
   "cell_type": "code",
   "execution_count": 1445,
   "metadata": {
    "ExecuteTime": {
     "end_time": "2020-07-07T17:31:00.015052Z",
     "start_time": "2020-07-07T17:30:59.955099Z"
    }
   },
   "outputs": [],
   "source": [
    "DT_precision_test = precision_score(y_test,DT.predict(X_test_encoded))\n",
    "DT_recall_test = recall_score(y_test,DT.predict(X_test_encoded))\n",
    "DT_accuracy_test = accuracy_score(y_test,DT.predict(X_test_encoded))\n",
    "DT_f1_test = f1_score(y_test,DT.predict(X_test_encoded))\n",
    "DT_AUC_test = roc_auc_score(y_test,DT.predict_proba(X_test_encoded)[:,-1])"
   ]
  },
  {
   "cell_type": "code",
   "execution_count": 1446,
   "metadata": {
    "ExecuteTime": {
     "end_time": "2020-07-07T17:31:00.023019Z",
     "start_time": "2020-07-07T17:31:00.016004Z"
    }
   },
   "outputs": [],
   "source": [
    "Summary = Summary.append({\"model\":\"Decision Tree\", 'train-test' : 'test','accuracy':DT_accuracy_test,'AUC':DT_AUC_test,'precision':DT_precision_test,'recall':DT_recall_test,'f1':DT_f1_test}, ignore_index=  True)"
   ]
  },
  {
   "cell_type": "markdown",
   "metadata": {
    "ExecuteTime": {
     "end_time": "2020-07-07T03:35:14.418079Z",
     "start_time": "2020-07-07T03:35:14.406111Z"
    }
   },
   "source": [
    "## Random Forest"
   ]
  },
  {
   "cell_type": "code",
   "execution_count": 1447,
   "metadata": {
    "ExecuteTime": {
     "end_time": "2020-07-07T17:31:00.854963Z",
     "start_time": "2020-07-07T17:31:00.023982Z"
    }
   },
   "outputs": [],
   "source": [
    "RF_precision_test = precision_score(y_test,RF.predict(X_test_encoded))\n",
    "RF_recall_test = recall_score(y_test,RF.predict(X_test_encoded))\n",
    "RF_accuracy_test = accuracy_score(y_test,RF.predict(X_test_encoded))\n",
    "RF_f1_test = f1_score(y_test,RF.predict(X_test_encoded))\n",
    "RF_AUC_test = roc_auc_score(y_test,RF.predict_proba(X_test_encoded)[:,-1])"
   ]
  },
  {
   "cell_type": "code",
   "execution_count": 1448,
   "metadata": {
    "ExecuteTime": {
     "end_time": "2020-07-07T17:31:00.866053Z",
     "start_time": "2020-07-07T17:31:00.856755Z"
    }
   },
   "outputs": [],
   "source": [
    "Summary = Summary.append({\"model\":\"Random Forest\", 'train-test' : 'test','accuracy':RF_accuracy_test,'AUC':RF_AUC_test,'precision':RF_precision_test,'recall':RF_recall_test,'f1':RF_f1_test}, ignore_index=  True)"
   ]
  },
  {
   "cell_type": "markdown",
   "metadata": {
    "ExecuteTime": {
     "end_time": "2020-07-07T03:37:55.611294Z",
     "start_time": "2020-07-07T03:37:55.597331Z"
    }
   },
   "source": [
    "## XGBoost"
   ]
  },
  {
   "cell_type": "code",
   "execution_count": 1449,
   "metadata": {
    "ExecuteTime": {
     "end_time": "2020-07-07T17:31:01.052231Z",
     "start_time": "2020-07-07T17:31:00.866729Z"
    }
   },
   "outputs": [],
   "source": [
    "XGB_precision_test = precision_score(y_test,xgb.predict(X_test_encoded))\n",
    "XGB_recall_test = recall_score(y_test,xgb.predict(X_test_encoded))\n",
    "XGB_accuracy_test = accuracy_score(y_test,xgb.predict(X_test_encoded))\n",
    "XGB_f1_test = f1_score(y_test,xgb.predict(X_test_encoded))\n",
    "XGB_AUC_test = roc_auc_score(y_test,xgb.predict_proba(X_test_encoded)[:,-1])"
   ]
  },
  {
   "cell_type": "code",
   "execution_count": 1450,
   "metadata": {
    "ExecuteTime": {
     "end_time": "2020-07-07T17:31:01.065198Z",
     "start_time": "2020-07-07T17:31:01.053229Z"
    }
   },
   "outputs": [],
   "source": [
    "Summary = Summary.append({\"model\":\"XGBoost\", 'train-test' : 'test','accuracy':XGB_accuracy_test,'AUC':XGB_AUC_test,'precision':XGB_precision_test,'recall':XGB_recall_test,'f1':XGB_f1_test}, ignore_index=  True)"
   ]
  },
  {
   "cell_type": "markdown",
   "metadata": {},
   "source": [
    "## SVM"
   ]
  },
  {
   "cell_type": "code",
   "execution_count": 1451,
   "metadata": {
    "ExecuteTime": {
     "end_time": "2020-07-07T17:31:14.347324Z",
     "start_time": "2020-07-07T17:31:01.067192Z"
    }
   },
   "outputs": [],
   "source": [
    "svm_precision_test = precision_score(y_test,svm.predict(X_test_encoded))\n",
    "svm_recall_test = recall_score(y_test,svm.predict(X_test_encoded))\n",
    "svm_accuracy_test = accuracy_score(y_test,svm.predict(X_test_encoded))\n",
    "svm_f1_test = f1_score(y_test,svm.predict(X_test_encoded))\n",
    "#svm_AUC = roc_auc_score(y_train,svm.predict_proba(X_train_encoded)["
   ]
  },
  {
   "cell_type": "code",
   "execution_count": 1452,
   "metadata": {
    "ExecuteTime": {
     "end_time": "2020-07-07T17:31:14.356427Z",
     "start_time": "2020-07-07T17:31:14.348326Z"
    }
   },
   "outputs": [],
   "source": [
    "Summary = Summary.append({\"model\":\"SVM\", 'train-test' : 'test','accuracy':svm_accuracy_test,'AUC': 0 ,'precision':svm_precision_test,'recall':svm_recall_test,'f1':svm_f1_test}, ignore_index=  True)"
   ]
  }
 ],
 "metadata": {
  "kernelspec": {
   "display_name": "Python 3",
   "language": "python",
   "name": "python3"
  },
  "language_info": {
   "codemirror_mode": {
    "name": "ipython",
    "version": 3
   },
   "file_extension": ".py",
   "mimetype": "text/x-python",
   "name": "python",
   "nbconvert_exporter": "python",
   "pygments_lexer": "ipython3",
   "version": "3.7.3"
  },
  "toc": {
   "base_numbering": 1,
   "nav_menu": {},
   "number_sections": true,
   "sideBar": true,
   "skip_h1_title": false,
   "title_cell": "Table of Contents",
   "title_sidebar": "Contents",
   "toc_cell": false,
   "toc_position": {},
   "toc_section_display": true,
   "toc_window_display": true
  }
 },
 "nbformat": 4,
 "nbformat_minor": 2
}
